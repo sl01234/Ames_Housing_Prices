{
 "cells": [
  {
   "cell_type": "markdown",
   "metadata": {},
   "source": [
    "### Import Libraries"
   ]
  },
  {
   "cell_type": "code",
   "execution_count": 3,
   "metadata": {},
   "outputs": [
    {
     "name": "stdout",
     "output_type": "stream",
     "text": [
      "Requirement already satisfied: category_encoders in /Users/mac/anaconda3/lib/python3.7/site-packages (2.2.2)\n",
      "Requirement already satisfied: scikit-learn>=0.20.0 in /Users/mac/anaconda3/lib/python3.7/site-packages (from category_encoders) (0.20.3)\n",
      "Requirement already satisfied: statsmodels>=0.9.0 in /Users/mac/anaconda3/lib/python3.7/site-packages (from category_encoders) (0.9.0)\n",
      "Requirement already satisfied: scipy>=1.0.0 in /Users/mac/anaconda3/lib/python3.7/site-packages (from category_encoders) (1.2.1)\n",
      "Requirement already satisfied: patsy>=0.5.1 in /Users/mac/anaconda3/lib/python3.7/site-packages (from category_encoders) (0.5.1)\n",
      "Requirement already satisfied: numpy>=1.14.0 in /Users/mac/anaconda3/lib/python3.7/site-packages (from category_encoders) (1.16.2)\n",
      "Requirement already satisfied: pandas>=0.21.1 in /Users/mac/anaconda3/lib/python3.7/site-packages (from category_encoders) (1.1.3)\n",
      "Requirement already satisfied: six in /Users/mac/anaconda3/lib/python3.7/site-packages (from patsy>=0.5.1->category_encoders) (1.12.0)\n",
      "Requirement already satisfied: python-dateutil>=2.7.3 in /Users/mac/anaconda3/lib/python3.7/site-packages (from pandas>=0.21.1->category_encoders) (2.8.0)\n",
      "Requirement already satisfied: pytz>=2017.2 in /Users/mac/anaconda3/lib/python3.7/site-packages (from pandas>=0.21.1->category_encoders) (2018.9)\n",
      "Requirement already satisfied: graphviz in /Users/mac/anaconda3/lib/python3.7/site-packages (0.15)\n",
      "Requirement already satisfied: xgboost in /Users/mac/anaconda3/lib/python3.7/site-packages (1.2.1)\n",
      "Requirement already satisfied: scipy in /Users/mac/anaconda3/lib/python3.7/site-packages (from xgboost) (1.2.1)\n",
      "Requirement already satisfied: numpy in /Users/mac/anaconda3/lib/python3.7/site-packages (from xgboost) (1.16.2)\n"
     ]
    }
   ],
   "source": [
    "import numpy as np\n",
    "import pandas as pd\n",
    "import matplotlib.pyplot as plt\n",
    "import sklearn\n",
    "import seaborn as sns\n",
    "import warnings\n",
    "pd.set_option('display.max_rows', None)\n",
    "pd.set_option('display.max_columns', None)\n",
    "warnings.filterwarnings(\"ignore\")\n",
    "from sklearn.preprocessing import MinMaxScaler, StandardScaler, OneHotEncoder, scale # feature scaling for range\n",
    "from sklearn.linear_model import LinearRegression, Lasso, Ridge, ElasticNet\n",
    "from sklearn.ensemble import RandomForestRegressor, GradientBoostRegressor\n",
    "from sklearn.model_selection import RandomizedSearchCV, GridSearchCV, train_test_split, KFold\n",
    "from sklearn.metrics import mean_absolute_error, r2score, mean_squared_error\n",
    "!pip install category_encoders\n",
    "!pip install graphviz"
   ]
  },
  {
   "cell_type": "markdown",
   "metadata": {},
   "source": [
    "### ** Read in all preprocessed model-ready files if want to skip data prep section below **\n",
    "### ** To go directly to models (with flags & scores) read in files and go to line 102 **"
   ]
  },
  {
   "cell_type": "code",
   "execution_count": null,
   "metadata": {},
   "outputs": [],
   "source": [
    "X_train_tree_high = pd.read_csv('./data/X_train_tree_high.csv')\n",
    "X_test_tree_high = pd.read_csv('./data/X_test_tree_high.csv')\n",
    "y_train = pd.read_csv('./data/y_train.csv')\n",
    "y_test = pd.read_csv('./data/y_train.csv')"
   ]
  },
  {
   "cell_type": "markdown",
   "metadata": {},
   "source": [
    "### Data prep: original Kaggle train set.  Will add flags and scores"
   ]
  },
  {
   "cell_type": "code",
   "execution_count": 2,
   "metadata": {},
   "outputs": [
    {
     "data": {
      "text/plain": [
       "(1460, 81)"
      ]
     },
     "execution_count": 2,
     "metadata": {},
     "output_type": "execute_result"
    }
   ],
   "source": [
    "# Train set\n",
    "train = pd.read_csv(\"./data/train_original.csv\")\n",
    "train = pd.DataFrame(train)\n",
    "train.shape"
   ]
  },
  {
   "cell_type": "code",
   "execution_count": 3,
   "metadata": {},
   "outputs": [
    {
     "name": "stdout",
     "output_type": "stream",
     "text": [
      "              Number of missing  Percent missing\n",
      "PoolQC                     1453            99.52\n",
      "MiscFeature                1406            96.30\n",
      "Alley                      1369            93.77\n",
      "Fence                      1179            80.75\n",
      "FireplaceQu                 690            47.26\n",
      "LotFrontage                 259            17.74\n",
      "GarageType                   81             5.55\n",
      "GarageYrBlt                  81             5.55\n",
      "GarageFinish                 81             5.55\n",
      "GarageQual                   81             5.55\n",
      "GarageCond                   81             5.55\n",
      "BsmtExposure                 38             2.60\n",
      "BsmtFinType2                 38             2.60\n",
      "BsmtFinType1                 37             2.53\n",
      "BsmtCond                     37             2.53\n",
      "BsmtQual                     37             2.53\n",
      "MasVnrArea                    8             0.55\n",
      "MasVnrType                    8             0.55\n",
      "Electrical                    1             0.07\n"
     ]
    },
    {
     "data": {
      "image/png": "[encoded data removed]",
      "text/plain": [
       "<Figure size 1800x576 with 1 Axes>"
      ]
     },
     "metadata": {
      "needs_background": "light"
     },
     "output_type": "display_data"
    }
   ],
   "source": [
    "missing = pd.DataFrame({'Number of missing': pd.isnull(train).sum(axis = 0)[pd.isnull(train).sum(axis = 0) > 0],\n",
    "              'Percent missing': round(pd.isnull(train).sum(axis = 0)[pd.isnull(train).sum(axis = 0) > 0]/train.shape[0]*100,2)})\n",
    "missingDesc = missing.sort_values(by=['Percent missing'], ascending=False)\n",
    "print(missingDesc)\n",
    "\n",
    "plt.figure(figsize = (25, 8))  \n",
    "p = sns.barplot(missingDesc.index, missingDesc['Percent missing'])\n",
    "for label in p.get_xticklabels():\n",
    "    p.set_xticklabels(missingDesc.index, rotation=90, fontsize='small')"
   ]
  },
  {
   "cell_type": "code",
   "execution_count": 4,
   "metadata": {},
   "outputs": [
    {
     "data": {
      "text/plain": [
       "NA    1453\n",
       "Gd       3\n",
       "Ex       2\n",
       "Fa       2\n",
       "Name: PoolQC, dtype: int64"
      ]
     },
     "execution_count": 4,
     "metadata": {},
     "output_type": "execute_result"
    }
   ],
   "source": [
    "PoolIndex = train[train['PoolArea']!=0].index  # Only these houses should receive a rating for pool qualiity, all others should be 'NA' rather than missing values.loc[np.logical_not(df_all_1.index.isin(PoolIndex)),'PoolQC'] = 'NA'\n",
    "train.loc[np.logical_not(train.index.isin(PoolIndex)),'PoolQC'] = 'NA' #change from NaN to 'NA', meaning different\n",
    "#train['PoolQC']\n",
    "\n",
    "# # Impute the 3 true missing values\n",
    "train['PoolQC'] = train['PoolQC'].fillna(train.PoolQC[PoolIndex].mode()[0])\n",
    "train['PoolQC'].value_counts()\n"
   ]
  },
  {
   "cell_type": "markdown",
   "metadata": {},
   "source": [
    "### Feature Engineering: Scores and Flags"
   ]
  },
  {
   "cell_type": "code",
   "execution_count": 5,
   "metadata": {},
   "outputs": [],
   "source": [
    "# Garage flag: whether garage is attached (in some way) to buidling vs. standalone \n",
    "\n",
    "is_attached = train['GarageType'].isin(['Attchd', 'BuiltIn', 'Basment','2Types']) # enclosed in brackets accidentally, list.  Don't do!!"
   ]
  },
  {
   "cell_type": "code",
   "execution_count": 6,
   "metadata": {},
   "outputs": [],
   "source": [
    "train['is_attached_garage'] = train.GarageType[is_attached]"
   ]
  },
  {
   "cell_type": "code",
   "execution_count": 7,
   "metadata": {},
   "outputs": [],
   "source": [
    "train['is_attached_garage'] = train['is_attached_garage'].replace(to_replace=\"\\w\", regex=True, value=1)\n",
    "train['is_attached_garage'] = train['is_attached_garage'].fillna(0)"
   ]
  },
  {
   "cell_type": "code",
   "execution_count": 8,
   "metadata": {},
   "outputs": [],
   "source": [
    "train['is_attached_garage'] = train.GarageType[is_attached]"
   ]
  },
  {
   "cell_type": "code",
   "execution_count": 9,
   "metadata": {},
   "outputs": [],
   "source": [
    "train = train.drop('GarageType', axis=1)"
   ]
  },
  {
   "cell_type": "code",
   "execution_count": 10,
   "metadata": {},
   "outputs": [],
   "source": [
    "# Spring flag: houses sold in March, April, or June\n",
    "\n",
    "is_spring = train['MoSold'].isin([3, 4, 5])"
   ]
  },
  {
   "cell_type": "code",
   "execution_count": 11,
   "metadata": {},
   "outputs": [],
   "source": [
    "train['is_spring'] = train.MoSold[is_spring]"
   ]
  },
  {
   "cell_type": "code",
   "execution_count": 12,
   "metadata": {},
   "outputs": [],
   "source": [
    "train['is_spring'] = train['is_spring'].fillna(0)"
   ]
  },
  {
   "cell_type": "code",
   "execution_count": 13,
   "metadata": {},
   "outputs": [],
   "source": [
    "train['is_spring'] = train['is_spring'].apply(lambda x: 1 if x else 0) ## Great finally!"
   ]
  },
  {
   "cell_type": "code",
   "execution_count": 14,
   "metadata": {},
   "outputs": [],
   "source": [
    "train = train.drop('MoSold', axis=1)"
   ]
  },
  {
   "cell_type": "code",
   "execution_count": 15,
   "metadata": {},
   "outputs": [],
   "source": [
    "# Sold after 2008 flag\n",
    "\n",
    "is_or_after_2008 = train['YrSold'].isin([2008, 2009, 2010])"
   ]
  },
  {
   "cell_type": "code",
   "execution_count": 16,
   "metadata": {},
   "outputs": [],
   "source": [
    "train['is_or_after_2008'] = train.YrSold[is_or_after_2008]"
   ]
  },
  {
   "cell_type": "code",
   "execution_count": 17,
   "metadata": {},
   "outputs": [],
   "source": [
    "train['is_or_after_2008'] = train['is_or_after_2008'].fillna(0)"
   ]
  },
  {
   "cell_type": "code",
   "execution_count": 18,
   "metadata": {},
   "outputs": [],
   "source": [
    "train['is_or_after_2008'] = train['is_or_after_2008'].apply(lambda x: 1 if x else 0) ## Great finally!"
   ]
  },
  {
   "cell_type": "code",
   "execution_count": 19,
   "metadata": {},
   "outputs": [],
   "source": [
    "# Better Condition1 flag: Near or adjacent to favorable conditions\n",
    "is_good_condition1_a = train['Condition1'].isin(['PosN', 'RRNn','PosA']) # enclosed in brackets accidentally, list.  Don't do!!"
   ]
  },
  {
   "cell_type": "code",
   "execution_count": 20,
   "metadata": {},
   "outputs": [],
   "source": [
    "train['is_good_condition1_a'] = train.Condition1[is_good_condition1_a]"
   ]
  },
  {
   "cell_type": "code",
   "execution_count": 21,
   "metadata": {},
   "outputs": [],
   "source": [
    "train['is_good_condition1_a'] = train['is_good_condition1_a'].replace(to_replace=\"\\w\", regex=True, value=1)\n",
    "train['is_good_condition1_a'] = train['is_good_condition1_a'].fillna(0)"
   ]
  },
  {
   "cell_type": "code",
   "execution_count": 22,
   "metadata": {},
   "outputs": [],
   "source": [
    "train = train.drop('Condition1', axis=1)"
   ]
  },
  {
   "cell_type": "code",
   "execution_count": 23,
   "metadata": {},
   "outputs": [],
   "source": [
    "# Better Condition2 flag: Near or adjacent to favorable conditions\n",
    "is_good_condition2_a = train['Condition2'].isin(['PosN', 'RRNn','PosA']) # enclosed in brackets accidentally, list.  Don't do!!"
   ]
  },
  {
   "cell_type": "code",
   "execution_count": 24,
   "metadata": {},
   "outputs": [],
   "source": [
    "train['is_good_condition2_a'] = train.Condition2[is_good_condition2_a]"
   ]
  },
  {
   "cell_type": "code",
   "execution_count": 25,
   "metadata": {},
   "outputs": [],
   "source": [
    "train['is_good_condition2_a'] = train['is_good_condition2_a'].replace(to_replace=\"\\w\", regex=True, value=1)\n",
    "train['is_good_condition2_a'] = train['is_good_condition2_a'].fillna(0)"
   ]
  },
  {
   "cell_type": "code",
   "execution_count": 26,
   "metadata": {},
   "outputs": [],
   "source": [
    "train = train.drop('Condition2', axis=1)"
   ]
  },
  {
   "cell_type": "code",
   "execution_count": 27,
   "metadata": {},
   "outputs": [],
   "source": [
    "# Total bathrooms above ground flag\n",
    "train['totalbath_abv_ground'] = train['FullBath'] + train['HalfBath']"
   ]
  },
  {
   "cell_type": "code",
   "execution_count": 28,
   "metadata": {},
   "outputs": [],
   "source": [
    "train = train.drop(['FullBath', 'HalfBath'], axis=1)"
   ]
  },
  {
   "cell_type": "code",
   "execution_count": 29,
   "metadata": {},
   "outputs": [],
   "source": [
    "# Neighborhood flag: low, mid, high SalePrice neighborhoods\n",
    "is_low = (train['SalePrice']) <= 150000\n",
    "is_mid = (train['SalePrice'] <= 230000) & (train['SalePrice'] > 150000)\n",
    "is_high = train['SalePrice'] > 230000"
   ]
  },
  {
   "cell_type": "code",
   "execution_count": 30,
   "metadata": {},
   "outputs": [],
   "source": [
    "train['is_low_neighborhood'] = train.Neighborhood[is_low]\n",
    "train['is_mid_neighborhood'] = train.Neighborhood[is_mid]\n",
    "train['is_high_neighborhood'] = train.Neighborhood[is_high]"
   ]
  },
  {
   "cell_type": "code",
   "execution_count": 31,
   "metadata": {},
   "outputs": [],
   "source": [
    "train['is_low_neighborhood'] = train['is_low_neighborhood'].replace(to_replace=\"\\w\", regex=True, value=1)\n",
    "train['is_low_neighborhood'] = train['is_low_neighborhood'].fillna(0)\n",
    "train['is_mid_neighborhood'] = train['is_mid_neighborhood'].replace(to_replace=\"\\w\", regex=True, value=1)\n",
    "train['is_mid_neighborhood'] = train['is_mid_neighborhood'].fillna(0)\n",
    "train['is_high_neighborhood'] = train['is_high_neighborhood'].replace(to_replace=\"\\w\", regex=True, value=1)\n",
    "train['is_high_neighborhood'] = train['is_high_neighborhood'].fillna(0)"
   ]
  },
  {
   "cell_type": "code",
   "execution_count": 33,
   "metadata": {},
   "outputs": [
    {
     "data": {
      "text/html": [
       "<div>\n",
       "<style scoped>\n",
       "    .dataframe tbody tr th:only-of-type {\n",
       "        vertical-align: middle;\n",
       "    }\n",
       "\n",
       "    .dataframe tbody tr th {\n",
       "        vertical-align: top;\n",
       "    }\n",
       "\n",
       "    .dataframe thead th {\n",
       "        text-align: right;\n",
       "    }\n",
       "</style>\n",
       "<table border=\"1\" class=\"dataframe\">\n",
       "  <thead>\n",
       "    <tr style=\"text-align: right;\">\n",
       "      <th></th>\n",
       "      <th>Neighborhood</th>\n",
       "      <th>is_low_neighborhood</th>\n",
       "      <th>is_mid_neighborhood</th>\n",
       "      <th>is_high_neighborhood</th>\n",
       "      <th>SalePrice</th>\n",
       "    </tr>\n",
       "  </thead>\n",
       "  <tbody>\n",
       "    <tr>\n",
       "      <th>0</th>\n",
       "      <td>CollgCr</td>\n",
       "      <td>0.0</td>\n",
       "      <td>1.0</td>\n",
       "      <td>0.0</td>\n",
       "      <td>208500</td>\n",
       "    </tr>\n",
       "    <tr>\n",
       "      <th>1</th>\n",
       "      <td>Veenker</td>\n",
       "      <td>0.0</td>\n",
       "      <td>1.0</td>\n",
       "      <td>0.0</td>\n",
       "      <td>181500</td>\n",
       "    </tr>\n",
       "    <tr>\n",
       "      <th>2</th>\n",
       "      <td>CollgCr</td>\n",
       "      <td>0.0</td>\n",
       "      <td>1.0</td>\n",
       "      <td>0.0</td>\n",
       "      <td>223500</td>\n",
       "    </tr>\n",
       "    <tr>\n",
       "      <th>3</th>\n",
       "      <td>Crawfor</td>\n",
       "      <td>1.0</td>\n",
       "      <td>0.0</td>\n",
       "      <td>0.0</td>\n",
       "      <td>140000</td>\n",
       "    </tr>\n",
       "    <tr>\n",
       "      <th>4</th>\n",
       "      <td>NoRidge</td>\n",
       "      <td>0.0</td>\n",
       "      <td>0.0</td>\n",
       "      <td>1.0</td>\n",
       "      <td>250000</td>\n",
       "    </tr>\n",
       "  </tbody>\n",
       "</table>\n",
       "</div>"
      ],
      "text/plain": [
       "  Neighborhood  is_low_neighborhood  is_mid_neighborhood  \\\n",
       "0      CollgCr                  0.0                  1.0   \n",
       "1      Veenker                  0.0                  1.0   \n",
       "2      CollgCr                  0.0                  1.0   \n",
       "3      Crawfor                  1.0                  0.0   \n",
       "4      NoRidge                  0.0                  0.0   \n",
       "\n",
       "   is_high_neighborhood  SalePrice  \n",
       "0                   0.0     208500  \n",
       "1                   0.0     181500  \n",
       "2                   0.0     223500  \n",
       "3                   0.0     140000  \n",
       "4                   1.0     250000  "
      ]
     },
     "execution_count": 33,
     "metadata": {},
     "output_type": "execute_result"
    }
   ],
   "source": [
    "train[['Neighborhood', 'is_low_neighborhood', 'is_mid_neighborhood', 'is_high_neighborhood', 'SalePrice']].head()"
   ]
  },
  {
   "cell_type": "code",
   "execution_count": 34,
   "metadata": {},
   "outputs": [],
   "source": [
    "train = train.drop('Neighborhood', axis=1)"
   ]
  },
  {
   "cell_type": "code",
   "execution_count": 35,
   "metadata": {},
   "outputs": [],
   "source": [
    "# 2ndFl flag (which is included in 'GrLivArea')\n",
    "is_with_2ndFlr = train['2ndFlrSF'] != 0"
   ]
  },
  {
   "cell_type": "code",
   "execution_count": 36,
   "metadata": {},
   "outputs": [],
   "source": [
    "train['is_with_2ndFlr'] = train['2ndFlrSF'][is_with_2ndFlr]"
   ]
  },
  {
   "cell_type": "code",
   "execution_count": 37,
   "metadata": {},
   "outputs": [],
   "source": [
    "train['is_with_2ndFlr'] = train['is_with_2ndFlr'].fillna(0)"
   ]
  },
  {
   "cell_type": "code",
   "execution_count": 38,
   "metadata": {},
   "outputs": [],
   "source": [
    "train['is_with_2ndFlr'] = train['is_with_2ndFlr'].apply(lambda x: 1 if x else 0) ## Great finally!"
   ]
  },
  {
   "cell_type": "code",
   "execution_count": 39,
   "metadata": {},
   "outputs": [
    {
     "data": {
      "text/html": [
       "<div>\n",
       "<style scoped>\n",
       "    .dataframe tbody tr th:only-of-type {\n",
       "        vertical-align: middle;\n",
       "    }\n",
       "\n",
       "    .dataframe tbody tr th {\n",
       "        vertical-align: top;\n",
       "    }\n",
       "\n",
       "    .dataframe thead th {\n",
       "        text-align: right;\n",
       "    }\n",
       "</style>\n",
       "<table border=\"1\" class=\"dataframe\">\n",
       "  <thead>\n",
       "    <tr style=\"text-align: right;\">\n",
       "      <th></th>\n",
       "      <th>2ndFlrSF</th>\n",
       "      <th>is_with_2ndFlr</th>\n",
       "    </tr>\n",
       "  </thead>\n",
       "  <tbody>\n",
       "    <tr>\n",
       "      <th>0</th>\n",
       "      <td>854</td>\n",
       "      <td>1</td>\n",
       "    </tr>\n",
       "    <tr>\n",
       "      <th>1</th>\n",
       "      <td>0</td>\n",
       "      <td>0</td>\n",
       "    </tr>\n",
       "    <tr>\n",
       "      <th>2</th>\n",
       "      <td>866</td>\n",
       "      <td>1</td>\n",
       "    </tr>\n",
       "    <tr>\n",
       "      <th>3</th>\n",
       "      <td>756</td>\n",
       "      <td>1</td>\n",
       "    </tr>\n",
       "    <tr>\n",
       "      <th>4</th>\n",
       "      <td>1053</td>\n",
       "      <td>1</td>\n",
       "    </tr>\n",
       "  </tbody>\n",
       "</table>\n",
       "</div>"
      ],
      "text/plain": [
       "   2ndFlrSF  is_with_2ndFlr\n",
       "0       854               1\n",
       "1         0               0\n",
       "2       866               1\n",
       "3       756               1\n",
       "4      1053               1"
      ]
     },
     "execution_count": 39,
     "metadata": {},
     "output_type": "execute_result"
    }
   ],
   "source": [
    "train[['2ndFlrSF', 'is_with_2ndFlr']].head()"
   ]
  },
  {
   "cell_type": "code",
   "execution_count": 40,
   "metadata": {},
   "outputs": [],
   "source": [
    "train = train.drop('2ndFlrSF', axis=1)"
   ]
  },
  {
   "cell_type": "code",
   "execution_count": 41,
   "metadata": {},
   "outputs": [],
   "source": [
    "# LocationScore: combining values from OverallQual, ExterQual, ExterCond, and Functional\n",
    "# Map categorical to numeric values based on SalePrice\n",
    "train['ExterQual'] = train['ExterQual'].map({'Ex': 9, 'Gd': 7, 'TA': 5, 'Fa': 3, 'Po': 2})\n",
    "train['ExterCond'] = train['ExterCond'].map({'Ex': 9, 'Gd': 7, 'TA': 5, 'Fa': 3, 'Po': 2})\n",
    "train['Functional'] = train['Functional'].map({'Typ': 5, 'Min1': 4, 'Min2': 4, 'Mod': 3, 'Maj1': 2, 'Maj2': 2, 'Sev': 1, 'Sal': 0})"
   ]
  },
  {
   "cell_type": "code",
   "execution_count": 42,
   "metadata": {},
   "outputs": [
    {
     "data": {
      "text/plain": [
       "0    2.044476\n",
       "1    2.418606\n",
       "2    2.044476\n",
       "3    2.044476\n",
       "4    2.208429\n",
       "Name: LocationScore, dtype: float64"
      ]
     },
     "execution_count": 42,
     "metadata": {},
     "output_type": "execute_result"
    }
   ],
   "source": [
    "train['LocationScore'] = ((train['OverallQual']/train['OverallQual'].mean()) + (train['OverallCond']/train['OverallCond'].mean()))\n",
    "+ (train['ExterQual']/train['ExterQual'].mean()) + (train['ExterCond']/train['ExterCond'].mean())\n",
    "+ (train['Functional']/train['Functional'].mean())\n",
    "train['LocationScore'].head()"
   ]
  },
  {
   "cell_type": "code",
   "execution_count": 43,
   "metadata": {},
   "outputs": [],
   "source": [
    "train = train.drop(['ExterQual', 'ExterCond', 'Functional'], axis=1)"
   ]
  },
  {
   "cell_type": "code",
   "execution_count": 44,
   "metadata": {},
   "outputs": [
    {
     "data": {
      "text/plain": [
       "(1460, 81)"
      ]
     },
     "execution_count": 44,
     "metadata": {},
     "output_type": "execute_result"
    }
   ],
   "source": [
    "train.shape #(1460, 90) with feature engineering"
   ]
  },
  {
   "cell_type": "code",
   "execution_count": 45,
   "metadata": {},
   "outputs": [],
   "source": [
    "# FireplaceScore: combining different fireplace attributes into one scroe\n",
    "train['FireplaceQu_a'] = train['FireplaceQu'].map({'Ex': 2,\n",
    "                                                 'Gd': 1.5,\n",
    "                                                 'TA': 1.25,\n",
    "                                                 'Fa': 1,\n",
    "                                                 'Po': 0.75})"
   ]
  },
  {
   "cell_type": "code",
   "execution_count": 46,
   "metadata": {},
   "outputs": [],
   "source": [
    "train['Fireplaces'] = train['Fireplaces'].fillna('0')"
   ]
  },
  {
   "cell_type": "code",
   "execution_count": 47,
   "metadata": {},
   "outputs": [
    {
     "data": {
      "text/html": [
       "<div>\n",
       "<style scoped>\n",
       "    .dataframe tbody tr th:only-of-type {\n",
       "        vertical-align: middle;\n",
       "    }\n",
       "\n",
       "    .dataframe tbody tr th {\n",
       "        vertical-align: top;\n",
       "    }\n",
       "\n",
       "    .dataframe thead th {\n",
       "        text-align: right;\n",
       "    }\n",
       "</style>\n",
       "<table border=\"1\" class=\"dataframe\">\n",
       "  <thead>\n",
       "    <tr style=\"text-align: right;\">\n",
       "      <th></th>\n",
       "      <th>FireplaceQu_a</th>\n",
       "      <th>Fireplaces</th>\n",
       "      <th>FireplaceScore</th>\n",
       "    </tr>\n",
       "  </thead>\n",
       "  <tbody>\n",
       "    <tr>\n",
       "      <th>0</th>\n",
       "      <td>NaN</td>\n",
       "      <td>0</td>\n",
       "      <td>0.00</td>\n",
       "    </tr>\n",
       "    <tr>\n",
       "      <th>1</th>\n",
       "      <td>1.25</td>\n",
       "      <td>1</td>\n",
       "      <td>1.25</td>\n",
       "    </tr>\n",
       "    <tr>\n",
       "      <th>2</th>\n",
       "      <td>1.25</td>\n",
       "      <td>1</td>\n",
       "      <td>1.25</td>\n",
       "    </tr>\n",
       "    <tr>\n",
       "      <th>3</th>\n",
       "      <td>1.50</td>\n",
       "      <td>1</td>\n",
       "      <td>1.50</td>\n",
       "    </tr>\n",
       "    <tr>\n",
       "      <th>4</th>\n",
       "      <td>1.25</td>\n",
       "      <td>1</td>\n",
       "      <td>1.25</td>\n",
       "    </tr>\n",
       "  </tbody>\n",
       "</table>\n",
       "</div>"
      ],
      "text/plain": [
       "   FireplaceQu_a  Fireplaces  FireplaceScore\n",
       "0            NaN           0            0.00\n",
       "1           1.25           1            1.25\n",
       "2           1.25           1            1.25\n",
       "3           1.50           1            1.50\n",
       "4           1.25           1            1.25"
      ]
     },
     "execution_count": 47,
     "metadata": {},
     "output_type": "execute_result"
    }
   ],
   "source": [
    "train['FireplaceScore'] = train['FireplaceQu_a'] * train['Fireplaces']\n",
    "train['FireplaceScore'] = train['FireplaceScore'].fillna(0)\n",
    "train[['FireplaceQu_a', 'Fireplaces','FireplaceScore']].head(5)"
   ]
  },
  {
   "cell_type": "code",
   "execution_count": 48,
   "metadata": {},
   "outputs": [],
   "source": [
    "train = train.drop(['FireplaceQu_a', 'FireplaceQu', 'Fireplaces'], axis=1)"
   ]
  },
  {
   "cell_type": "code",
   "execution_count": 49,
   "metadata": {},
   "outputs": [],
   "source": [
    "# GarageScore: combining different garage attributes into one score\n",
    "train['GarageQual_a'] = train['GarageQual'].map({'Ex': 1.7, 'Gd': 1.4, 'TA': 1, 'Fa': 0.7, 'Po': 0.5})"
   ]
  },
  {
   "cell_type": "code",
   "execution_count": 50,
   "metadata": {},
   "outputs": [
    {
     "data": {
      "text/plain": [
       "<matplotlib.axes._subplots.AxesSubplot at 0x1a263e09e8>"
      ]
     },
     "execution_count": 50,
     "metadata": {},
     "output_type": "execute_result"
    },
    {
     "data": {
      "image/png": "[encoded data removed]",
      "text/plain": [
       "<Figure size 432x288 with 1 Axes>"
      ]
     },
     "metadata": {
      "needs_background": "light"
     },
     "output_type": "display_data"
    }
   ],
   "source": [
    "sns.boxplot(x='GarageQual_a', y='SalePrice', data=train)"
   ]
  },
  {
   "cell_type": "code",
   "execution_count": 51,
   "metadata": {},
   "outputs": [],
   "source": [
    "train['GarageCond_a'] = train['GarageCond'].map({'Ex': 0.8, 'Gd': 1, 'TA': 1, 'Fa': 0.7, 'Po': 0.6})"
   ]
  },
  {
   "cell_type": "code",
   "execution_count": 52,
   "metadata": {},
   "outputs": [],
   "source": [
    "train['GarageFinish_a'] = train['GarageFinish'].map({'Fin': 1.25, 'RFn': 1, 'Unf': 0.75})"
   ]
  },
  {
   "cell_type": "code",
   "execution_count": 53,
   "metadata": {},
   "outputs": [],
   "source": [
    "train['GarageScore'] = train['GarageQual_a']*train['GarageCars']*train['GarageFinish_a']*train['GarageCond_a']"
   ]
  },
  {
   "cell_type": "code",
   "execution_count": 55,
   "metadata": {},
   "outputs": [
    {
     "data": {
      "text/html": [
       "<div>\n",
       "<style scoped>\n",
       "    .dataframe tbody tr th:only-of-type {\n",
       "        vertical-align: middle;\n",
       "    }\n",
       "\n",
       "    .dataframe tbody tr th {\n",
       "        vertical-align: top;\n",
       "    }\n",
       "\n",
       "    .dataframe thead th {\n",
       "        text-align: right;\n",
       "    }\n",
       "</style>\n",
       "<table border=\"1\" class=\"dataframe\">\n",
       "  <thead>\n",
       "    <tr style=\"text-align: right;\">\n",
       "      <th></th>\n",
       "      <th>GarageQual_a</th>\n",
       "      <th>GarageCars</th>\n",
       "      <th>GarageFinish_a</th>\n",
       "      <th>GarageCond_a</th>\n",
       "      <th>GarageScore</th>\n",
       "    </tr>\n",
       "  </thead>\n",
       "  <tbody>\n",
       "    <tr>\n",
       "      <th>0</th>\n",
       "      <td>1.0</td>\n",
       "      <td>2</td>\n",
       "      <td>1.00</td>\n",
       "      <td>1.0</td>\n",
       "      <td>2.00</td>\n",
       "    </tr>\n",
       "    <tr>\n",
       "      <th>1</th>\n",
       "      <td>1.0</td>\n",
       "      <td>2</td>\n",
       "      <td>1.00</td>\n",
       "      <td>1.0</td>\n",
       "      <td>2.00</td>\n",
       "    </tr>\n",
       "    <tr>\n",
       "      <th>2</th>\n",
       "      <td>1.0</td>\n",
       "      <td>2</td>\n",
       "      <td>1.00</td>\n",
       "      <td>1.0</td>\n",
       "      <td>2.00</td>\n",
       "    </tr>\n",
       "    <tr>\n",
       "      <th>3</th>\n",
       "      <td>1.0</td>\n",
       "      <td>3</td>\n",
       "      <td>0.75</td>\n",
       "      <td>1.0</td>\n",
       "      <td>2.25</td>\n",
       "    </tr>\n",
       "    <tr>\n",
       "      <th>4</th>\n",
       "      <td>1.0</td>\n",
       "      <td>3</td>\n",
       "      <td>1.00</td>\n",
       "      <td>1.0</td>\n",
       "      <td>3.00</td>\n",
       "    </tr>\n",
       "  </tbody>\n",
       "</table>\n",
       "</div>"
      ],
      "text/plain": [
       "   GarageQual_a  GarageCars  GarageFinish_a  GarageCond_a  GarageScore\n",
       "0           1.0           2            1.00           1.0         2.00\n",
       "1           1.0           2            1.00           1.0         2.00\n",
       "2           1.0           2            1.00           1.0         2.00\n",
       "3           1.0           3            0.75           1.0         2.25\n",
       "4           1.0           3            1.00           1.0         3.00"
      ]
     },
     "execution_count": 55,
     "metadata": {},
     "output_type": "execute_result"
    }
   ],
   "source": [
    "train[['GarageQual_a', 'GarageCars', 'GarageFinish_a', 'GarageCond_a', 'GarageScore']].head()"
   ]
  },
  {
   "cell_type": "code",
   "execution_count": 56,
   "metadata": {},
   "outputs": [],
   "source": [
    "train = train.drop(['GarageQual', 'GarageQual_a', 'GarageCond', 'GarageCond_a','GarageFinish', 'GarageFinish_a'], axis=1)"
   ]
  },
  {
   "cell_type": "code",
   "execution_count": 57,
   "metadata": {},
   "outputs": [],
   "source": [
    "# BasementScore: combining different basement attributes into one score\n",
    "\n",
    "train['BsmtFinType1_a'] = train['BsmtFinType1'].map({'GLQ': 1.3, 'ALQ': 1.2, 'Unf': 1, 'Rec': 1, 'BLQ': 1, 'LwQ':1})"
   ]
  },
  {
   "cell_type": "code",
   "execution_count": 58,
   "metadata": {},
   "outputs": [],
   "source": [
    "train['BsmtFinType2_a'] = train['BsmtFinType2'].map({'GLQ': 1.3, 'ALQ': 1.2, 'Unf': 1, 'Rec': 1, 'BLQ': 1, 'LwQ':1})"
   ]
  },
  {
   "cell_type": "code",
   "execution_count": 59,
   "metadata": {},
   "outputs": [],
   "source": [
    "train['BsmtQual_a'] = train['BsmtQual'].map({'Ex': 1.8, 'Gd': 1.2, 'TA': 0.9, 'Fa': 0.9})"
   ]
  },
  {
   "cell_type": "code",
   "execution_count": 60,
   "metadata": {},
   "outputs": [],
   "source": [
    "train['BsmtCond_a'] = train['BsmtCond'].map({'Gd': 1.2, 'TA': 1, 'Fa': 0.6, 'Po': 0.4})\n"
   ]
  },
  {
   "cell_type": "code",
   "execution_count": 61,
   "metadata": {},
   "outputs": [],
   "source": [
    "# train['BsmtExposure'] = train['BsmtExposure'].fillna('Missing')\n",
    "train['BsmtExposure_a'] = train['BsmtExposure'].map({'Gd': 1.3, 'No': 0.9, 'Mn': 1, 'Av': 1})"
   ]
  },
  {
   "cell_type": "code",
   "execution_count": 62,
   "metadata": {},
   "outputs": [],
   "source": [
    "train['BsmtFinType2_a'] = train['BsmtFinType2'].map({'GLQ': 1.3, 'ALQ': 1.2, 'Unf': 1, 'Rec': 1, 'BLQ': 1, 'LwQ':1})"
   ]
  },
  {
   "cell_type": "code",
   "execution_count": 63,
   "metadata": {},
   "outputs": [],
   "source": [
    "train['BsmtScore'] = train['BsmtExposure_a']*train['BsmtQual_a']*train['BsmtCond_a']*train['BsmtFinType1_a']*train['BsmtFinType2_a']"
   ]
  },
  {
   "cell_type": "code",
   "execution_count": 65,
   "metadata": {},
   "outputs": [
    {
     "data": {
      "text/html": [
       "<div>\n",
       "<style scoped>\n",
       "    .dataframe tbody tr th:only-of-type {\n",
       "        vertical-align: middle;\n",
       "    }\n",
       "\n",
       "    .dataframe tbody tr th {\n",
       "        vertical-align: top;\n",
       "    }\n",
       "\n",
       "    .dataframe thead th {\n",
       "        text-align: right;\n",
       "    }\n",
       "</style>\n",
       "<table border=\"1\" class=\"dataframe\">\n",
       "  <thead>\n",
       "    <tr style=\"text-align: right;\">\n",
       "      <th></th>\n",
       "      <th>BsmtCond_a</th>\n",
       "      <th>BsmtQual_a</th>\n",
       "      <th>BsmtExposure_a</th>\n",
       "      <th>BsmtFinType1_a</th>\n",
       "      <th>BsmtFinType2_a</th>\n",
       "      <th>BsmtScore</th>\n",
       "    </tr>\n",
       "  </thead>\n",
       "  <tbody>\n",
       "    <tr>\n",
       "      <th>0</th>\n",
       "      <td>1.0</td>\n",
       "      <td>1.2</td>\n",
       "      <td>0.9</td>\n",
       "      <td>1.3</td>\n",
       "      <td>1.0</td>\n",
       "      <td>1.4040</td>\n",
       "    </tr>\n",
       "    <tr>\n",
       "      <th>1</th>\n",
       "      <td>1.0</td>\n",
       "      <td>1.2</td>\n",
       "      <td>1.3</td>\n",
       "      <td>1.2</td>\n",
       "      <td>1.0</td>\n",
       "      <td>1.8720</td>\n",
       "    </tr>\n",
       "    <tr>\n",
       "      <th>2</th>\n",
       "      <td>1.0</td>\n",
       "      <td>1.2</td>\n",
       "      <td>1.0</td>\n",
       "      <td>1.3</td>\n",
       "      <td>1.0</td>\n",
       "      <td>1.5600</td>\n",
       "    </tr>\n",
       "    <tr>\n",
       "      <th>3</th>\n",
       "      <td>1.2</td>\n",
       "      <td>0.9</td>\n",
       "      <td>0.9</td>\n",
       "      <td>1.2</td>\n",
       "      <td>1.0</td>\n",
       "      <td>1.1664</td>\n",
       "    </tr>\n",
       "    <tr>\n",
       "      <th>4</th>\n",
       "      <td>1.0</td>\n",
       "      <td>1.2</td>\n",
       "      <td>1.0</td>\n",
       "      <td>1.3</td>\n",
       "      <td>1.0</td>\n",
       "      <td>1.5600</td>\n",
       "    </tr>\n",
       "  </tbody>\n",
       "</table>\n",
       "</div>"
      ],
      "text/plain": [
       "   BsmtCond_a  BsmtQual_a  BsmtExposure_a  BsmtFinType1_a  BsmtFinType2_a  \\\n",
       "0         1.0         1.2             0.9             1.3             1.0   \n",
       "1         1.0         1.2             1.3             1.2             1.0   \n",
       "2         1.0         1.2             1.0             1.3             1.0   \n",
       "3         1.2         0.9             0.9             1.2             1.0   \n",
       "4         1.0         1.2             1.0             1.3             1.0   \n",
       "\n",
       "   BsmtScore  \n",
       "0     1.4040  \n",
       "1     1.8720  \n",
       "2     1.5600  \n",
       "3     1.1664  \n",
       "4     1.5600  "
      ]
     },
     "execution_count": 65,
     "metadata": {},
     "output_type": "execute_result"
    }
   ],
   "source": [
    "train[['BsmtCond_a', 'BsmtQual_a', 'BsmtExposure_a', 'BsmtFinType1_a', 'BsmtFinType2_a', 'BsmtScore']].head()"
   ]
  },
  {
   "cell_type": "code",
   "execution_count": 66,
   "metadata": {},
   "outputs": [],
   "source": [
    "train = train.drop(['BsmtFinType1', 'BsmtFinType1_a', 'BsmtFinType2', 'BsmtFinType2_a', \n",
    "                   'BsmtQual', 'BsmtQual_a', 'BsmtCond', 'BsmtCond_a', 'BsmtExposure', 'BsmtExposure_a'], axis=1)"
   ]
  },
  {
   "cell_type": "code",
   "execution_count": 67,
   "metadata": {},
   "outputs": [
    {
     "name": "stdout",
     "output_type": "stream",
     "text": [
      "(1460, 74)\n",
      "4908\n"
     ]
    }
   ],
   "source": [
    "print(train.shape) #(1460, 71 after flags and scores and dropping)\n",
    "print(train.isna().sum().sum())"
   ]
  },
  {
   "cell_type": "code",
   "execution_count": 68,
   "metadata": {},
   "outputs": [],
   "source": [
    "train.to_csv('./data/train_tree_high.csv', index=False)"
   ]
  },
  {
   "cell_type": "code",
   "execution_count": 73,
   "metadata": {},
   "outputs": [],
   "source": [
    "numeric_features_tree_high = train_tree_high.select_dtypes(include = ['int64','float64'])"
   ]
  },
  {
   "cell_type": "code",
   "execution_count": 75,
   "metadata": {},
   "outputs": [
    {
     "name": "stdout",
     "output_type": "stream",
     "text": [
      "(1460, 46)\n"
     ]
    },
    {
     "data": {
      "text/plain": [
       "468"
      ]
     },
     "execution_count": 75,
     "metadata": {},
     "output_type": "execute_result"
    }
   ],
   "source": [
    "numeric_features_tree_high = pd.DataFrame(numeric_features_tree_high, columns=numeric_features_tree_high.columns)\n",
    "numeric_features_tree_high.to_csv(\"./data/numeric_features_tree_high.csv\", index=False)\n",
    "\n",
    "print(numeric_features_tree_high.shape) \n",
    "numeric_features_tree_high.isna().sum().sum()"
   ]
  },
  {
   "cell_type": "code",
   "execution_count": 77,
   "metadata": {},
   "outputs": [
    {
     "data": {
      "text/plain": [
       "(1460, 28)"
      ]
     },
     "execution_count": 77,
     "metadata": {},
     "output_type": "execute_result"
    }
   ],
   "source": [
    "categorical_features_tree_high = train_tree_high.select_dtypes(include = 'O')\n"
   ]
  },
  {
   "cell_type": "code",
   "execution_count": 78,
   "metadata": {},
   "outputs": [
    {
     "name": "stdout",
     "output_type": "stream",
     "text": [
      "(1460, 28)\n"
     ]
    },
    {
     "data": {
      "text/plain": [
       "5893"
      ]
     },
     "execution_count": 78,
     "metadata": {},
     "output_type": "execute_result"
    }
   ],
   "source": [
    "categorical_features_tree_high = pd.DataFrame(categorical_features_tree_high, columns=categorical_features_tree_high.columns)\n",
    "print(categorical_features_tree_high.shape)\n",
    "categorical_features_tree_high.to_csv(\"./data/categorical_features_tree_high.csv\", index=False)\n",
    "categorical_features_tree_high.isna().sum().sum()"
   ]
  },
  {
   "cell_type": "markdown",
   "metadata": {},
   "source": [
    "### Relabel Categorical Features "
   ]
  },
  {
   "cell_type": "code",
   "execution_count": 80,
   "metadata": {},
   "outputs": [
    {
     "name": "stdout",
     "output_type": "stream",
     "text": [
      "(1460, 28)\n"
     ]
    },
    {
     "data": {
      "text/plain": [
       "0"
      ]
     },
     "execution_count": 80,
     "metadata": {},
     "output_type": "execute_result"
    }
   ],
   "source": [
    "# Categorical relabel\n",
    "import category_encoders as ce\n",
    "categorical_features_relabel_high = categorical_features_tree_high.copy()\n",
    "\n",
    "cols_relabel = categorical_features_tree_high.columns\n",
    "\n",
    "encoder5 = ce.ordinal.OrdinalEncoder(cols=cols_relabel)\n",
    "\n",
    "categorical_features_relabel_high = encoder5.fit_transform(categorical_features_relabel_high)\n",
    "categorical_features_relabel_high.to_csv('./data/categorical_features_relabel_high.csv', index=False)\n",
    "\n",
    "print(categorical_features_relabel_high.shape) # (1460, 37) from above after going through all new columns\n",
    "categorical_features_relabel_high.isna().sum().sum()"
   ]
  },
  {
   "cell_type": "code",
   "execution_count": 81,
   "metadata": {},
   "outputs": [
    {
     "name": "stdout",
     "output_type": "stream",
     "text": [
      "(1460, 46)\n"
     ]
    },
    {
     "data": {
      "text/plain": [
       "468"
      ]
     },
     "execution_count": 81,
     "metadata": {},
     "output_type": "execute_result"
    }
   ],
   "source": [
    "# Feature Scaling\n",
    "from sklearn.preprocessing import StandardScaler\n",
    "sc = StandardScaler()\n",
    "\n",
    "numeric_features_scaled_high = sc.fit_transform(numeric_features_tree_high)\n",
    "numeric_features_scaled_high = sc.transform(numeric_features_tree_high)\n",
    "numeric_features_scaled_high = pd.DataFrame(numeric_features_scaled_high, columns=numeric_features_tree_high.columns)\n",
    "numeric_features_scaled_high.to_csv('./data/numeric_features_scaled_high.csv', index=False)\n",
    "print(numeric_features_scaled_high.shape) #(1460, 50) from above having gone through all those columns\n",
    "numeric_features_scaled_high.isna().sum().sum()"
   ]
  },
  {
   "cell_type": "code",
   "execution_count": 82,
   "metadata": {},
   "outputs": [
    {
     "name": "stdout",
     "output_type": "stream",
     "text": [
      "(1460, 74)\n"
     ]
    },
    {
     "data": {
      "text/plain": [
       "468"
      ]
     },
     "execution_count": 82,
     "metadata": {},
     "output_type": "execute_result"
    }
   ],
   "source": [
    "train_scaled_relabel_high = pd.concat([numeric_features_scaled_high, categorical_features_relabel_high], axis=1)\n",
    "print(train_scaled_relabel_high.shape) #(1460, 95)\n",
    "train_scaled_relabel_high.isna().sum().sum()"
   ]
  },
  {
   "cell_type": "code",
   "execution_count": 83,
   "metadata": {},
   "outputs": [
    {
     "name": "stdout",
     "output_type": "stream",
     "text": [
      "             Number of missing  Percent missing\n",
      "LotFrontage                259            17.74\n",
      "GarageYrBlt                 81             5.55\n",
      "GarageScore                 81             5.55\n",
      "BsmtScore                   39             2.67\n",
      "MasVnrArea                   8             0.55\n"
     ]
    },
    {
     "data": {
      "image/png": "[encoded data removed]",
      "text/plain": [
       "<Figure size 1800x576 with 1 Axes>"
      ]
     },
     "metadata": {
      "needs_background": "light"
     },
     "output_type": "display_data"
    }
   ],
   "source": [
    "missing = pd.DataFrame({'Number of missing': pd.isnull(train_scaled_relabel_high).sum(axis = 0)[pd.isnull(train_scaled_relabel_high).sum(axis = 0) > 0],\n",
    "              'Percent missing': round(pd.isnull(train_scaled_relabel_high).sum(axis = 0)[pd.isnull(train_scaled_relabel_high).sum(axis = 0) > 0]/train_scaled_relabel_high.shape[0]*100,2)})\n",
    "missingDesc = missing.sort_values(by=['Percent missing'], ascending=False)\n",
    "print(missingDesc)\n",
    "\n",
    "plt.figure(figsize = (25, 8))  \n",
    "p = sns.barplot(missingDesc.index, missingDesc['Percent missing'])\n",
    "for label in p.get_xticklabels():\n",
    "     p.set_xticklabels(missingDesc.index, rotation=90, fontsize='small')"
   ]
  },
  {
   "cell_type": "code",
   "execution_count": 84,
   "metadata": {},
   "outputs": [
    {
     "data": {
      "text/plain": [
       "1    1453\n",
       "4       3\n",
       "3       2\n",
       "2       2\n",
       "Name: PoolQC, dtype: int64"
      ]
     },
     "execution_count": 84,
     "metadata": {},
     "output_type": "execute_result"
    }
   ],
   "source": [
    "PoolIndex = train_scaled_relabel_high[train_scaled_relabel_high['PoolArea']!=0].index  # Only these houses should receive a rating for pool qualiity, all others should be 'NA' rather than missing values.loc[np.logical_not(df_all_1.index.isin(PoolIndex)),'PoolQC'] = 'NA'\n",
    "train.loc[np.logical_not(train_scaled_relabel_high.index.isin(PoolIndex)),'PoolQC'] = 'NA' #change from NaN to 'NA', meaning different\n",
    "#train['PoolQC']\n",
    "#train.loc[PoolIndex, 'PoolQC'].isnull().sum()\n",
    "\n",
    "# # Impute the 3 true missing values\n",
    "train_scaled_relabel_high['PoolQC'] = train_scaled_relabel_high['PoolQC'].fillna(train_scaled_relabel_high.PoolQC[PoolIndex].mode()[0])"
   ]
  },
  {
   "cell_type": "markdown",
   "metadata": {},
   "source": [
    "### Imputation: Most frequent"
   ]
  },
  {
   "cell_type": "code",
   "execution_count": 85,
   "metadata": {},
   "outputs": [
    {
     "name": "stdout",
     "output_type": "stream",
     "text": [
      "(1460, 69)\n"
     ]
    },
    {
     "data": {
      "text/plain": [
       "0"
      ]
     },
     "execution_count": 85,
     "metadata": {},
     "output_type": "execute_result"
    }
   ],
   "source": [
    "train_scaled_relabel_high = train_scaled_relabel_high.fillna(train_scaled_relabel_high.mode().iloc[0])\n",
    "train_scaled_relabel_high = train_scaled_relabel_high.drop(['Id', 'MiscVal', 'MiscFeature', 'Fence', 'Alley'], axis=1)\n",
    "train_scaled_relabel_high.to_csv(\"./data/train_scaled_relabel_high.csv\", index=False)\n",
    "print(train_scaled_relabel_high.shape) #(1460, 90) from the is_neighborhood etc new columns)\n",
    "train_scaled_relabel_high.isna().sum().sum()"
   ]
  },
  {
   "cell_type": "code",
   "execution_count": 5,
   "metadata": {},
   "outputs": [
    {
     "name": "stdout",
     "output_type": "stream",
     "text": [
      "(1460, 68)\n"
     ]
    },
    {
     "data": {
      "text/plain": [
       "0"
      ]
     },
     "execution_count": 5,
     "metadata": {},
     "output_type": "execute_result"
    }
   ],
   "source": [
    "X = train_scaled_relabel_high.drop('SalePrice', axis=1)\n",
    "print(X.shape) #(1460, 89)\n",
    "X.isna().sum().sum()"
   ]
  },
  {
   "cell_type": "code",
   "execution_count": 6,
   "metadata": {},
   "outputs": [
    {
     "name": "stdout",
     "output_type": "stream",
     "text": [
      "(1460,)\n"
     ]
    },
    {
     "data": {
      "text/plain": [
       "0"
      ]
     },
     "execution_count": 6,
     "metadata": {},
     "output_type": "execute_result"
    }
   ],
   "source": [
    "y = train_scaled_relabel_high['SalePrice']\n",
    "print(y.shape) #(1460, 89)\n",
    "y.isna().sum().sum()"
   ]
  },
  {
   "cell_type": "markdown",
   "metadata": {},
   "source": [
    "## Split into training and test sets"
   ]
  },
  {
   "cell_type": "code",
   "execution_count": 7,
   "metadata": {},
   "outputs": [
    {
     "name": "stdout",
     "output_type": "stream",
     "text": [
      "(978, 68)\n"
     ]
    },
    {
     "data": {
      "text/plain": [
       "0"
      ]
     },
     "execution_count": 7,
     "metadata": {},
     "output_type": "execute_result"
    }
   ],
   "source": [
    "X_train_tree_high, X_test_tree_high, y_train, y_test = train_test_split(X, y, test_size=0.33, random_state=42)\n",
    "print(X_train_tree_high.shape) #(1460, 89)\n",
    "X_train_tree_high.isna().sum().sum()"
   ]
  },
  {
   "cell_type": "code",
   "execution_count": null,
   "metadata": {},
   "outputs": [],
   "source": [
    "X_train_tree_high.to_csv('./data/X_train_tree_high.csv', index=False)\n",
    "X_test_tree_high.to_csv('./data/X_test_tree_high.csv', index=False)"
   ]
  },
  {
   "cell_type": "markdown",
   "metadata": {},
   "source": [
    "### MODELS: Flags/Scores: is_high, is_mid_, is_low neighborhood\n",
    "### GridSearchCV: Ridge, Lasso, ElasticNet, RandomForestRegressor, GradientBoostRegressor, SVR"
   ]
  },
  {
   "cell_type": "markdown",
   "metadata": {},
   "source": [
    "### Ridge "
   ]
  },
  {
   "cell_type": "code",
   "execution_count": 15,
   "metadata": {},
   "outputs": [
    {
     "name": "stdout",
     "output_type": "stream",
     "text": [
      "The train score is 0.8959\n",
      "The test score is 0.8219\n",
      "The R-squared is 0.8219\n",
      "The root mean squared is 0.4553\n",
      "The mean squared error is 0.2073\n",
      "The mean absolute error is is 0.256\n",
      "{'alpha': 6.2, 'max_iter': 10, 'solver': 'saga'}\n",
      "GridsearchCV best_score is 82.1677%\n"
     ]
    }
   ],
   "source": [
    "ridge = Ridge()\n",
    "params1 = {'alpha': np.arange(0, 10),\n",
    "          'max_iter': [10, 50, 100, 200, 300, 400, 500, 600, 700],\n",
    "          'solver': ['cholesky', 'lsqr', 'sparse_cg', 'sag', 'saga']}\n",
    "\n",
    "grid1 = GridSearchCV(ridge, params1, n_jobs=-1)\n",
    "\n",
    "grid1.fit(X_train_tree_high, y_train)\n",
    "pred=grid1.predict(X_test_tree_high)\n",
    "\n",
    "train_score = grid1.score(X_train_tree_high, y_train)\n",
    "test_score = grid1.score(X_test_tree_high, y_test) # same thing as R2, just testing\n",
    "Rs = r2_score(y_test, pred) # r2_score(ytrue, ypred)\n",
    "rmse=np.sqrt(mean_squared_error(y_test,pred))\n",
    "mse=mean_squared_error(y_test,pred)\n",
    "mae=mean_absolute_error(y_test, pred)\n",
    "\n",
    "print('The train score is {:.4}'.format(train_score))\n",
    "print('The test score is {:.4}'.format(test_score)) # same thing as R2, just testing\n",
    "print('The R-squared is {:.4}'.format(Rs))\n",
    "print('The root mean squared is {:.4}'.format(rmse))\n",
    "print('The mean squared error is {:.4}'.format(mse))\n",
    "print('The mean absolute error is is {:.4}'.format(mae))\n",
    "\n",
    "grid1_best_params = grid1.best_params_\n",
    "print(grid1_best_params)\n",
    "print('GridsearchCV best_score is {:.4%}'.format(grid1.best_score_))"
   ]
  },
  {
   "cell_type": "markdown",
   "metadata": {},
   "source": [
    "### Lasso"
   ]
  },
  {
   "cell_type": "code",
   "execution_count": 16,
   "metadata": {},
   "outputs": [
    {
     "name": "stdout",
     "output_type": "stream",
     "text": [
      "The train score is 0.9022\n",
      "The test score is 0.8489\n",
      "The R-squared is 0.8489\n",
      "The root mean squared is 0.4194\n",
      "The mean squared error is 0.1759\n",
      "The mean absolute error is is 0.2511\n",
      "{'alpha': 0, 'max_iter': 26, 'selection': 'cyclic'}\n",
      "GridSearchCV best_score is 65.7243%\n"
     ]
    }
   ],
   "source": [
    "lasso = Lasso(random_state=42)\n",
    "params2 = {'alpha': np.arange(0, 10),\n",
    "          'max_iter': np.arange(1, 700, 5),\n",
    "          'selection':['cyclic', 'random']}\n",
    "\n",
    "grid2 = GridSearchCV(lasso, params2, n_jobs=-1)\n",
    "\n",
    "grid2.fit(X_train_tree_high, y_train)\n",
    "pred=grid2.predict(X_test_tree_high)\n",
    "\n",
    "train_score = grid2.score(X_train_tree_high, y_train)\n",
    "test_score = grid2.score(X_test_tree_high, y_test) # same thing as R2, just testing\n",
    "Rs = r2_score(y_test, pred) # r2_score(ytrue, ypred)\n",
    "rmse=np.sqrt(mean_squared_error(y_test,pred))\n",
    "mse=mean_squared_error(y_test,pred)\n",
    "mae=mean_absolute_error(y_test, pred)\n",
    "\n",
    "print('The train score is {:.4}'.format(train_score))\n",
    "print('The test score is {:.4}'.format(test_score)) # same thing as R2, just testing\n",
    "print('The R-squared is {:.4}'.format(Rs))\n",
    "print('The root mean squared is {:.4}'.format(rmse))\n",
    "print('The mean squared error is {:.4}'.format(mse))\n",
    "print('The mean absolute error is is {:.4}'.format(mae))\n",
    "\n",
    "grid2_best_params = grid2.best_params_\n",
    "print(grid2_best_params)\n",
    "print('GridSearchCV best_score is {:.4%}'.format(grid2.best_score_))"
   ]
  },
  {
   "cell_type": "markdown",
   "metadata": {},
   "source": [
    "### ElasticNet"
   ]
  },
  {
   "cell_type": "code",
   "execution_count": 11,
   "metadata": {},
   "outputs": [
    {
     "name": "stdout",
     "output_type": "stream",
     "text": [
      "The train score is 0.8676\n",
      "The test score is 0.8231\n",
      "The R-squared is 0.8231\n",
      "The root mean squared is 0.4538\n",
      "The mean squared error is 0.2059\n",
      "The mean absolute error is is 0.2455\n",
      "{'alpha': 0.06, 'l1_ratio': 0.7, 'max_iter': 11}\n",
      "GridSearchCV best_score is 83.1750%\n"
     ]
    }
   ],
   "source": [
    "elastic = ElasticNet(random_state=42)\n",
    "params4 = {\"alpha\": np.arange(0, 10),\n",
    "          \"max_iter\": np.arange(1, 700, 5),\n",
    "          'l1_ratio': [0.1, 0.4, 0.7, 0.9]}\n",
    "\n",
    "grid4 = GridSearchCV(elastic, params4, n_jobs=-1)\n",
    "\n",
    "grid4.fit(X_train_tree_high, y_train)\n",
    "pred=grid4.predict(X_test_tree_high)\n",
    "\n",
    "train_score = grid4.score(X_train_tree_high, y_train)\n",
    "test_score = grid4.score(X_test_tree_high, y_test) # same thing as R2, just testing\n",
    "Rs = r2_score(y_test, pred) # r2_score(ytrue, ypred)\n",
    "rmse=np.sqrt(mean_squared_error(y_test,pred))\n",
    "mse=mean_squared_error(y_test,pred)\n",
    "mae=mean_absolute_error(y_test, pred)\n",
    "\n",
    "print('The train score is {:.4}'.format(train_score))\n",
    "print('The test score is {:.4}'.format(test_score)) # same thing as R2, just testing\n",
    "print('The R-squared is {:.4}'.format(Rs))\n",
    "print('The root mean squared is {:.4}'.format(rmse))\n",
    "print('The mean squared error is {:.4}'.format(mse))\n",
    "print('The mean absolute error is is {:.4}'.format(mae))\n",
    "\n",
    "grid4_best_params = grid4.best_params_\n",
    "print(grid4_best_params)\n",
    "print('GridSearchCV best_score is {:.4%}'.format(grid4.best_score_))"
   ]
  },
  {
   "cell_type": "markdown",
   "metadata": {},
   "source": [
    "### Random Forest Regressor"
   ]
  },
  {
   "cell_type": "code",
   "execution_count": 61,
   "metadata": {},
   "outputs": [
    {
     "name": "stdout",
     "output_type": "stream",
     "text": [
      "The train score is 0.9816\n",
      "The test score is 0.9011\n",
      "The R-squared is 0.9011\n",
      "The root mean squared is 0.3394\n",
      "The mean squared error is 0.1152\n",
      "The mean absolute error is is 0.1948\n",
      "{'n_estimators': 785, 'min_samples_split': 2, 'min_samples_leaf': 1, 'max_features': 40, 'max_depth': 9, 'criterion': 'mae'}\n",
      "RandomizedSearch best_score is 90.7067%\n"
     ]
    }
   ],
   "source": [
    "randomforest = RandomForestRegressor(verbose=0)\n",
    "params5 = {\"criterion\": ['mae','mse'],\n",
    "          \"min_samples_leaf\": range(1, 10),\n",
    "          \"min_samples_split\": np.linspace(start=2, stop=30,\n",
    "                    num=15, dtype=int),\n",
    "          \"max_depth\": range(1,10),\n",
    "          \"n_estimators\": np.linspace(1, 1000, num=15, dtype=int),\n",
    "          \"max_features\": range(5, 60, 5)}\n",
    "#           'oob_score'= True}\n",
    " \n",
    "grid5 = RandomizedSearchCV(randomforest, params5)\n",
    "\n",
    "grid5.fit(X_train_tree_high, y_train)\n",
    "pred=grid5.predict(X_test_tree_high)\n",
    "\n",
    "train_score = grid5.score(X_train_tree_high, y_train)\n",
    "test_score = grid5.score(X_test_tree_high, y_test) # same thing as R2, just testing\n",
    "Rs = r2_score(y_test, pred) # r2_score(ytrue, ypred)\n",
    "rmse=np.sqrt(mean_squared_error(y_test,pred))\n",
    "mse=mean_squared_error(y_test,pred)\n",
    "mae=mean_absolute_error(y_test, pred)\n",
    "\n",
    "print('The train score is {:.4}'.format(train_score))\n",
    "print('The test score is {:.4}'.format(test_score)) # same thing as R2, just testing\n",
    "print('The R-squared is {:.4}'.format(Rs))\n",
    "print('The root mean squared is {:.4}'.format(rmse))\n",
    "print('The mean squared error is {:.4}'.format(mse))\n",
    "print('The mean absolute error is is {:.4}'.format(mae))\n",
    "\n",
    "grid5_best_params = grid5.best_params_\n",
    "print(grid5_best_params)\n",
    "print('RandomizedSearchCV best_score is {:.4%}'.format(grid5.best_score_))"
   ]
  },
  {
   "cell_type": "code",
   "execution_count": 98,
   "metadata": {},
   "outputs": [
    {
     "data": {
      "text/plain": [
       "RandomForestRegressor(bootstrap=True, criterion='mse', max_depth=7,\n",
       "           max_features=40, max_leaf_nodes=None, min_impurity_decrease=0.0,\n",
       "           min_impurity_split=None, min_samples_leaf=4,\n",
       "           min_samples_split=12, min_weight_fraction_leaf=0.0,\n",
       "           n_estimators=215, n_jobs=None, oob_score=False,\n",
       "           random_state=None, verbose=0, warm_start=False)"
      ]
     },
     "execution_count": 98,
     "metadata": {},
     "output_type": "execute_result"
    }
   ],
   "source": [
    "randomforest = RandomForestRegressor(n_estimators=215, min_samples_split=12, min_samples_leaf=4, max_features=40, max_depth=7, criterion='mse')\n",
    "randomforest.fit(X_train_tree_high, y_train)"
   ]
  },
  {
   "cell_type": "markdown",
   "metadata": {},
   "source": [
    "### Feature Importances: RandomForest (Flags & Scores)"
   ]
  },
  {
   "cell_type": "code",
   "execution_count": 101,
   "metadata": {},
   "outputs": [
    {
     "data": {
      "text/plain": [
       "[('is_high_neighborhood', 0.43502559689846415),\n",
       " ('is_low_neighborhood', 0.18963722335430275),\n",
       " ('OverallQual', 0.10720600288275464),\n",
       " ('is_mid_neighborhood', 0.07598372376039794),\n",
       " ('GrLivArea', 0.03690093168494146),\n",
       " ('BsmtScore', 0.03560916350730025),\n",
       " ('TotalBsmtSF', 0.020117177824052607),\n",
       " ('GarageScore', 0.013403981829528133),\n",
       " ('1stFlrSF', 0.010708502828941223),\n",
       " ('YearBuilt', 0.009500604557749226),\n",
       " ('LocationScore', 0.007109888993105986),\n",
       " ('MasVnrArea', 0.00644845507925995),\n",
       " ('BsmtFinSF1', 0.006379503375371074),\n",
       " ('GarageArea', 0.006095953308317396),\n",
       " ('TotRmsAbvGrd', 0.005112715609090095)]"
      ]
     },
     "execution_count": 101,
     "metadata": {},
     "output_type": "execute_result"
    }
   ],
   "source": [
    "sorted_importance_random_high= sorted(zip(X_train_tree_high.columns, randomforest.feature_importances_), key=lambda t:t[1], reverse=True)\n",
    "sorted_importance_random_high= sorted_importance_random_high[:15] #lambda use to indicate second item\n",
    "sorted_importance_random_high"
   ]
  },
  {
   "cell_type": "markdown",
   "metadata": {},
   "source": [
    "### Gradient Boosting Regressor"
   ]
  },
  {
   "cell_type": "code",
   "execution_count": 102,
   "metadata": {},
   "outputs": [
    {
     "data": {
      "text/plain": [
       "GradientBoostingRegressor(alpha=0.9, criterion='friedman_mse', init=None,\n",
       "             learning_rate=0.1, loss='ls', max_depth=3, max_features=None,\n",
       "             max_leaf_nodes=None, min_impurity_decrease=0.0,\n",
       "             min_impurity_split=None, min_samples_leaf=1,\n",
       "             min_samples_split=2, min_weight_fraction_leaf=0.0,\n",
       "             n_estimators=100, n_iter_no_change=None, presort='auto',\n",
       "             random_state=None, subsample=1.0, tol=0.0001,\n",
       "             validation_fraction=0.1, verbose=0, warm_start=False)"
      ]
     },
     "execution_count": 102,
     "metadata": {},
     "output_type": "execute_result"
    }
   ],
   "source": [
    "gbm6 = GradientBoostingRegressor()\n",
    "gbm6.fit(X_train_tree_high, y_train)\n",
    "\n",
    "params6 = {\"criterion\": ['mae','mse'],\n",
    "                       \"min_samples_leaf\": range(1, 10),\n",
    "                       \"min_samples_split\": np.linspace(start=2, stop=30,\n",
    "                                        num=15, dtype=int),\n",
    "                       \"max_depth\": range(1,10),\n",
    "                       \"alpha\": [0.01, 0.05, 0.1, 0.2, 0.3, 0.5, 0.7, 0.9],\n",
    "                       \"n_estimators\": np.linspace(1, 1000, num=15, dtype=int),\n",
    "                        \"subsample\": [0.8, 0.9, 1.0],\n",
    "                       \"max_features\": range(5, 80, 5)}\n",
    "\n",
    "grid6 = RandomizedSearchCV(gbm6, params6)\n",
    "\n",
    "grid6.fit(X_train_tree_high,y_train)\n",
    "pred=grid6.predict(X_test_tree)\n",
    "\n",
    "train_score = grid6.score(X_train_tree_high, y_train)\n",
    "test_score = grid6.score(X_test_tree_high, y_test) # same thing as R2, just testing\n",
    "Rs = r2_score(y_test, pred) # r2_score(ytrue, ypred)\n",
    "rmse=np.sqrt(mean_squared_error(y_test,pred))\n",
    "mse=mean_squared_error(y_test,pred)\n",
    "mae=mean_absolute_error(y_test, pred)\n",
    "\n",
    "print('The train score is {:.4}'.format(train_score))\n",
    "print('The test score is {:.4}'.format(test_score)) # same thing as R2, just testing\n",
    "print('The R-squared is {:.4}'.format(Rs))\n",
    "print('The root mean squared is {:.4}'.format(rmse))\n",
    "print('The mean squared error is {:.4}'.format(mse))\n",
    "print('The mean absolute error is {:.4}'.format(mae))\n",
    "\n",
    "grid6_best_params = grid6.best_params_\n",
    "print(grid6_best_params)\n",
    "print('RandomizedSearchCV best_score is {:.4%}'.format(grid6.best_score_))"
   ]
  },
  {
   "cell_type": "code",
   "execution_count": 103,
   "metadata": {},
   "outputs": [
    {
     "data": {
      "text/plain": [
       "0.9771460746255713"
      ]
     },
     "execution_count": 103,
     "metadata": {},
     "output_type": "execute_result"
    }
   ],
   "source": [
    "gbm6.score(X_train_tree_high, y_train)"
   ]
  },
  {
   "cell_type": "code",
   "execution_count": 104,
   "metadata": {},
   "outputs": [
    {
     "data": {
      "text/plain": [
       "0.9158755639825559"
      ]
     },
     "execution_count": 104,
     "metadata": {},
     "output_type": "execute_result"
    }
   ],
   "source": [
    "gbm6.score(X_test_tree_high, y_test)"
   ]
  },
  {
   "cell_type": "markdown",
   "metadata": {},
   "source": [
    "### Feature Importances: GradientBoosting (Flags & Scores)"
   ]
  },
  {
   "cell_type": "code",
   "execution_count": 105,
   "metadata": {},
   "outputs": [
    {
     "data": {
      "text/plain": [
       "[('is_high_neighborhood', 0.5964720093419735),\n",
       " ('is_low_neighborhood', 0.07408564782032451),\n",
       " ('is_mid_neighborhood', 0.06486665031184136),\n",
       " ('GrLivArea', 0.063631552597128),\n",
       " ('OverallQual', 0.05441731441198861),\n",
       " ('BsmtScore', 0.04528969249778369),\n",
       " ('TotalBsmtSF', 0.02299954981373865),\n",
       " ('BsmtFinSF1', 0.008536339316733208),\n",
       " ('LocationScore', 0.008330050743906496),\n",
       " ('YearBuilt', 0.007851528646802525),\n",
       " ('1stFlrSF', 0.006616091781021039),\n",
       " ('GarageScore', 0.00567913612982756),\n",
       " ('TotRmsAbvGrd', 0.0052169979202107315),\n",
       " ('LotArea', 0.004913991940014669),\n",
       " ('GarageArea', 0.0045448625168160684)]"
      ]
     },
     "execution_count": 105,
     "metadata": {},
     "output_type": "execute_result"
    }
   ],
   "source": [
    "sorted_importance_gbm_high= sorted(zip(X_train_tree_high.columns, gbm6.feature_importances_), key=lambda t:t[1], reverse=True)\n",
    "sorted_importance_gbm_high= sorted_importance_gbm_high[:15] #lambda use to indicate second item\n",
    "sorted_importance_gbm_high"
   ]
  },
  {
   "cell_type": "code",
   "execution_count": 110,
   "metadata": {},
   "outputs": [
    {
     "data": {
      "text/plain": [
       "Text(0.5, 1.0, 'GBM Feature Importance (Flags included: Neighborhood (high, mid, low), LocationScore, GarageScore, TotBaths, 2ndFlr)')"
      ]
     },
     "execution_count": 110,
     "metadata": {},
     "output_type": "execute_result"
    },
    {
     "data": {
      "image/png": "[encoded data removed]",
      "text/plain": [
       "<Figure size 432x288 with 1 Axes>"
      ]
     },
     "metadata": {
      "needs_background": "light"
     },
     "output_type": "display_data"
    }
   ],
   "source": [
    "x, y = zip(*sorted_importance_gbm_high)\n",
    "barplot_encoded_tree_high = pd.DataFrame({'Feature': x, 'Importance Score':y}).plot.bar(x='Feature', y='Importance Score',\n",
    "                    color=['red', 'red', 'red', 'blue', 'blue', 'red', 'blue', 'blue', 'red', 'blue', 'blue', 'red', 'blue', 'blue', 'blue'])\n",
    "plt.title('GBM Feature Importance (Flags included: Neighborhood (high, mid, low), LocationScore, GarageScore, TotBaths, 2ndFlr)')"
   ]
  },
  {
   "cell_type": "markdown",
   "metadata": {},
   "source": [
    "### SVM"
   ]
  },
  {
   "cell_type": "code",
   "execution_count": 12,
   "metadata": {},
   "outputs": [
    {
     "data": {
      "text/plain": [
       "SVR(C=1.0, cache_size=200, coef0=0.0, degree=3, epsilon=0.0001, gamma=1,\n",
       "  kernel='rbf', max_iter=-1, shrinking=True, tol=0.001, verbose=False)"
      ]
     },
     "execution_count": 12,
     "metadata": {},
     "output_type": "execute_result"
    }
   ],
   "source": [
    "from sklearn.svm import SVR\n",
    "svr = SVR(epsilon = 1e-4, gamma=1)\n",
    "svr.fit(X_train_tree_high, y_train)"
   ]
  },
  {
   "cell_type": "code",
   "execution_count": 14,
   "metadata": {},
   "outputs": [
    {
     "name": "stdout",
     "output_type": "stream",
     "text": [
      "0.7440235180606001\n",
      "-0.01040082255821373\n"
     ]
    }
   ],
   "source": [
    "print(svr.score(X_train_tree_high, y_train))\n",
    "print(svr.score(X_test_tree_high, y_test))"
   ]
  },
  {
   "cell_type": "code",
   "execution_count": 102,
   "metadata": {},
   "outputs": [
    {
     "name": "stdout",
     "output_type": "stream",
     "text": [
      "The train score is 0.9925\n",
      "The test score is 0.7547\n",
      "The R-squared is 0.7547\n",
      "The root mean squared is 0.5344\n",
      "The mean squared error is 0.2856\n",
      "The mean absolute error is 0.2851\n",
      "{'kernel': 'poly', 'epsilon': 0.0001, 'degree': 2, 'C': 10}\n",
      "RandomizedSearch best_score is 36.9829%\n"
     ]
    }
   ],
   "source": [
    "svrsearch = SVR()\n",
    "params7a = {'C': [0.001, 1, 10, 100, 1000],\n",
    "           'epsilon': [1e-4, 1e-3, 1e-2, 1e-1, 0, 10, 100, 1000, 10000, 100000],\n",
    "           'kernel': ['poly'],\n",
    "          'degree': [1, 2, 3, 4, 5]\n",
    "           }\n",
    "params7b = {'C': [0.001, 1, 10, 100, 1000],\n",
    "          'epsilon': [1e-4, 1e-3, 1e-2, 1e-1, 0, 10, 100, 1000, 10000, 100000],\n",
    "          'gamma': [100000, 10000, 1000, 100, 10, 1, 0.001, 0.0001],\n",
    "           'kernel': ['rbf']}"
   ]
  },
  {
   "cell_type": "code",
   "execution_count": null,
   "metadata": {},
   "outputs": [],
   "source": [
    "# First set of GridSearchCV parameters\n",
    "\n",
    "gridsearch_svm7a = model_selection.GridSearchCV(svrsearch, params7a, cv=3, iid=True, n_jobs=-1)\n",
    "gridsearch_svm7a.fit(X_train_tree_high, y_train)\n",
    "\n",
    "train_score = gridsearch_svm7a.score(X_train_tree_high, y_train)\n",
    "test_score = gridsearch_svm7a.score(X_test_tree_high, y_test) # same thing as R2, just testing\n",
    "Rs = r2_score(y_test, pred) # r2_score(ytrue, ypred)\n",
    "rmse = np.sqrt(mean_squared_error(y_test,pred))\n",
    "mse = mean_squared_error(y_test,pred)\n",
    "mae = mean_absolute_error(y_test, pred)\n",
    "\n",
    "print('The train score is {:.4}'.format(train_score))\n",
    "print('The test score is {:.4}'.format(test_score)) # same thing as R2, just testing\n",
    "print('The R-squared is {:.4}'.format(Rs))\n",
    "print('The root mean squared is {:.4}'.format(rmse))\n",
    "print('The mean squared error is {:.4}'.format(mse))\n",
    "print('The mean absolute error is {:.4}'.format(mae))\n",
    "\n",
    "gridsearch_best_params7a = gridsearch_svm7a.best_params_\n",
    "print(gridsearch_best_params7a)\n",
    "print('GridSearchCV best_score is {:.4%}'.format(gridsearch_svm7a.best_score_))"
   ]
  },
  {
   "cell_type": "code",
   "execution_count": null,
   "metadata": {},
   "outputs": [],
   "source": [
    "# Second set of GridSearchCV parameters\n",
    "\n",
    "gridsearch_svm7b = model_selection.GridSearchCV(svrsearch, params7b, cv=3, iid=True, n_jobs=-1)\n",
    "gridsearch_svm7b.fit(X_train_tree_high, y_train)\n",
    "\n",
    "train_score = gridsearch_svm7b.score(X_train_tree_high, y_train)\n",
    "test_score = gridsearch_svm7b.score(X_test_tree_high, y_test)\n",
    "Rs = r2_score(y_test, pred) # r2_score(ytrue, ypred)\n",
    "rmse = np.sqrt(mean_squared_error(y_test,pred))\n",
    "mse = mean_squared_error(y_test,pred)\n",
    "mae = mean_absolute_error(y_test, pred)\n",
    "\n",
    "print('The train score is {:.4}'.format(train_score))\n",
    "print('The test score is {:.4}'.format(test_score)) # same thing as R2, just testing\n",
    "print('The R-squared is {:.4}'.format(Rs))\n",
    "print('The root mean squared is {:.4}'.format(rmse))\n",
    "print('The mean squared error is {:.4}'.format(mse))\n",
    "print('The mean absolute error is {:.4}'.format(mae))\n",
    "\n",
    "gridsearch_best_params7b = gridsearch_svm7b.best_params_\n",
    "print(gridsearch_best_params7b)\n",
    "print('GridSearchCV best_score is {:.4%}'.format(gridsearch_svm7b.best_score_))"
   ]
  }
 ],
 "metadata": {
  "kernelspec": {
   "display_name": "Python 3",
   "language": "python",
   "name": "python3"
  },
  "language_info": {
   "codemirror_mode": {
    "name": "ipython",
    "version": 3
   },
   "file_extension": ".py",
   "mimetype": "text/x-python",
   "name": "python",
   "nbconvert_exporter": "python",
   "pygments_lexer": "ipython3",
   "version": "3.7.3"
  }
 },
 "nbformat": 4,
 "nbformat_minor": 2
}
