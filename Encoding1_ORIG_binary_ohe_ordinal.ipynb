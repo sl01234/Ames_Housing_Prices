{
 "cells": [
  {
   "cell_type": "markdown",
   "metadata": {},
   "source": [
    "### Import Libraries"
   ]
  },
  {
   "cell_type": "code",
   "execution_count": 45,
   "metadata": {},
   "outputs": [
    {
     "name": "stdout",
     "output_type": "stream",
     "text": [
      "Requirement already satisfied: category_encoders in /Users/mac/anaconda3/lib/python3.7/site-packages (2.2.2)\n",
      "Requirement already satisfied: statsmodels>=0.9.0 in /Users/mac/anaconda3/lib/python3.7/site-packages (from category_encoders) (0.9.0)\n",
      "Requirement already satisfied: pandas>=0.21.1 in /Users/mac/anaconda3/lib/python3.7/site-packages (from category_encoders) (1.1.3)\n",
      "Requirement already satisfied: scipy>=1.0.0 in /Users/mac/anaconda3/lib/python3.7/site-packages (from category_encoders) (1.2.1)\n",
      "Requirement already satisfied: scikit-learn>=0.20.0 in /Users/mac/anaconda3/lib/python3.7/site-packages (from category_encoders) (0.20.3)\n",
      "Requirement already satisfied: numpy>=1.14.0 in /Users/mac/anaconda3/lib/python3.7/site-packages (from category_encoders) (1.16.2)\n",
      "Requirement already satisfied: patsy>=0.5.1 in /Users/mac/anaconda3/lib/python3.7/site-packages (from category_encoders) (0.5.1)\n",
      "Requirement already satisfied: pytz>=2017.2 in /Users/mac/anaconda3/lib/python3.7/site-packages (from pandas>=0.21.1->category_encoders) (2018.9)\n",
      "Requirement already satisfied: python-dateutil>=2.7.3 in /Users/mac/anaconda3/lib/python3.7/site-packages (from pandas>=0.21.1->category_encoders) (2.8.0)\n",
      "Requirement already satisfied: six in /Users/mac/anaconda3/lib/python3.7/site-packages (from patsy>=0.5.1->category_encoders) (1.12.0)\n",
      "Requirement already satisfied: graphviz in /Users/mac/anaconda3/lib/python3.7/site-packages (0.15)\n"
     ]
    }
   ],
   "source": [
    "import numpy as np\n",
    "import pandas as pd\n",
    "import matplotlib.pyplot as plt\n",
    "import sklearn\n",
    "import seaborn as sns\n",
    "import warnings\n",
    "pd.set_option('display.max_rows', None)\n",
    "pd.set_option('display.max_columns', None)\n",
    "warnings.filterwarnings(\"ignore\")\n",
    "from sklearn.preprocessing import MinMaxScaler, StandardScaler, OneHotEncoder, scale # feature scaling for range\n",
    "from sklearn.linear_model import LinearRegression, Lasso, Ridge, ElasticNet\n",
    "from sklearn.ensemble import RandomForestRegressor, GradientBoostRegressor\n",
    "from sklearn.model_selection import RandomizedSearchCV, GridSearchCV, train_test_split, KFold\n",
    "from sklearn.metrics import mean_absolute_error, r2score, mean_squared_error\n",
    "!pip install category_encoders\n",
    "!pip install graphviz"
   ]
  },
  {
   "cell_type": "markdown",
   "metadata": {},
   "source": [
    "### ** Read in all preprocessed model-ready files if want to skip data prep section below **\n",
    "### ** To go directly to models (original columns) read in files and go to line 102 **"
   ]
  },
  {
   "cell_type": "code",
   "execution_count": null,
   "metadata": {},
   "outputs": [],
   "source": [
    "X_train_all_encoded2 = pd.read_csv('./data/X_train_all_encoded2.csv')\n",
    "X_test_all_encoded2 = pd.read_csv('./data/X_test_all_encoded2.csv')\n",
    "y_train = pd.read_csv('./data/y_train.csv')\n",
    "y_test = pd.read_csv('./data/y_train.csv')"
   ]
  },
  {
   "cell_type": "markdown",
   "metadata": {},
   "source": [
    "### Data prep: original Kaggle train set"
   ]
  },
  {
   "cell_type": "code",
   "execution_count": 46,
   "metadata": {},
   "outputs": [
    {
     "data": {
      "text/plain": [
       "(1460, 81)"
      ]
     },
     "execution_count": 46,
     "metadata": {},
     "output_type": "execute_result"
    }
   ],
   "source": [
    "# Train set\n",
    "train = pd.read_csv(\"./data/train_original.csv\")\n",
    "train = pd.DataFrame(train)\n",
    "train.shape"
   ]
  },
  {
   "cell_type": "code",
   "execution_count": 47,
   "metadata": {},
   "outputs": [
    {
     "data": {
      "text/plain": [
       "(1460, 38)"
      ]
     },
     "execution_count": 47,
     "metadata": {},
     "output_type": "execute_result"
    }
   ],
   "source": [
    "numeric_features = train.select_dtypes(include = ['int64','float64'])\n",
    "numeric_features = pd.DataFrame(numeric_features, columns=numeric_features.columns)\n",
    "numeric_features.shape"
   ]
  },
  {
   "cell_type": "code",
   "execution_count": 48,
   "metadata": {},
   "outputs": [
    {
     "data": {
      "text/plain": [
       "(1460, 43)"
      ]
     },
     "execution_count": 48,
     "metadata": {},
     "output_type": "execute_result"
    }
   ],
   "source": [
    "categorical_features = train.select_dtypes(include = 'O')\n",
    "categorical_features = pd.DataFrame(categorical_features, columns=categorical_features.columns)\n",
    "categorical_features.shape"
   ]
  },
  {
   "cell_type": "markdown",
   "metadata": {},
   "source": [
    "### StandardScaler"
   ]
  },
  {
   "cell_type": "code",
   "execution_count": 54,
   "metadata": {},
   "outputs": [
    {
     "data": {
      "text/plain": [
       "(1460, 38)"
      ]
     },
     "execution_count": 54,
     "metadata": {},
     "output_type": "execute_result"
    }
   ],
   "source": [
    "# Feature Scaling\n",
    "from sklearn.preprocessing import StandardScaler\n",
    "sc = StandardScaler()\n",
    "\n",
    "numeric_features_scaled = sc.fit_transform(numeric_features)\n",
    "numeric_features_scaled = sc.transform(numeric_features)\n",
    "numeric_features_scaled = pd.DataFrame(numeric_features_scaled, columns=numeric_features.columns)\n",
    "numeric_features_scaled.shape"
   ]
  },
  {
   "cell_type": "code",
   "execution_count": 55,
   "metadata": {},
   "outputs": [],
   "source": [
    "train_scaled = pd.concat([numeric_features_scaled, categorical_features], axis=1)\n",
    "train_scaled.to_csv(\"./data/train_scaled.csv\", index=False)\n"
   ]
  },
  {
   "cell_type": "code",
   "execution_count": 57,
   "metadata": {},
   "outputs": [
    {
     "data": {
      "text/plain": [
       "(1460, 80)"
      ]
     },
     "execution_count": 57,
     "metadata": {},
     "output_type": "execute_result"
    }
   ],
   "source": [
    "X = train_scaled.drop('SalePrice', axis=1)\n",
    "X.shape"
   ]
  },
  {
   "cell_type": "code",
   "execution_count": 58,
   "metadata": {},
   "outputs": [
    {
     "data": {
      "text/plain": [
       "(1460,)"
      ]
     },
     "execution_count": 58,
     "metadata": {},
     "output_type": "execute_result"
    }
   ],
   "source": [
    "y = train_scaled['SalePrice']\n",
    "y.shape"
   ]
  },
  {
   "cell_type": "markdown",
   "metadata": {},
   "source": [
    "### Percentage Missing"
   ]
  },
  {
   "cell_type": "code",
   "execution_count": 59,
   "metadata": {},
   "outputs": [
    {
     "name": "stdout",
     "output_type": "stream",
     "text": [
      "              Number of missing  Percent missing\n",
      "PoolQC                     1453            99.52\n",
      "MiscFeature                1406            96.30\n",
      "Alley                      1369            93.77\n",
      "Fence                      1179            80.75\n",
      "FireplaceQu                 690            47.26\n",
      "LotFrontage                 259            17.74\n",
      "GarageType                   81             5.55\n",
      "GarageFinish                 81             5.55\n",
      "GarageQual                   81             5.55\n",
      "GarageCond                   81             5.55\n",
      "GarageYrBlt                  81             5.55\n",
      "BsmtExposure                 38             2.60\n",
      "BsmtFinType2                 38             2.60\n",
      "BsmtCond                     37             2.53\n",
      "BsmtFinType1                 37             2.53\n",
      "BsmtQual                     37             2.53\n",
      "MasVnrArea                    8             0.55\n",
      "MasVnrType                    8             0.55\n",
      "Electrical                    1             0.07\n"
     ]
    },
    {
     "data": {
      "image/png": "[encoded data removed]",
      "text/plain": [
       "<Figure size 1800x576 with 1 Axes>"
      ]
     },
     "metadata": {
      "needs_background": "light"
     },
     "output_type": "display_data"
    }
   ],
   "source": [
    "missing = pd.DataFrame({'Number of missing': pd.isnull(train_scaled).sum(axis = 0)[pd.isnull(train_scaled).sum(axis = 0) > 0],\n",
    "              'Percent missing': round(pd.isnull(train_scaled).sum(axis = 0)[pd.isnull(train_scaled).sum(axis = 0) > 0]/train_scaled.shape[0]*100,2)})\n",
    "missingDesc = missing.sort_values(by=['Percent missing'], ascending=False)\n",
    "print(missingDesc)\n",
    "\n",
    "plt.figure(figsize = (25, 8))  \n",
    "p = sns.barplot(missingDesc.index, missingDesc['Percent missing'])\n",
    "for label in p.get_xticklabels():\n",
    "    p.set_xticklabels(missingDesc.index, rotation=90, fontsize='small')"
   ]
  },
  {
   "cell_type": "code",
   "execution_count": 60,
   "metadata": {},
   "outputs": [
    {
     "data": {
      "text/plain": [
       "NA    1453\n",
       "Gd       3\n",
       "Fa       2\n",
       "Ex       2\n",
       "Name: PoolQC, dtype: int64"
      ]
     },
     "execution_count": 60,
     "metadata": {},
     "output_type": "execute_result"
    }
   ],
   "source": [
    "PoolIndex = train[train['PoolArea']!=0].index  # Only these houses should receive a rating for pool qualiity, all others should be 'NA' rather than missing values.loc[np.logical_not(df_all_1.index.isin(PoolIndex)),'PoolQC'] = 'NA'\n",
    "train.loc[np.logical_not(train.index.isin(PoolIndex)),'PoolQC'] = 'NA' #change from NaN to 'NA', meaning different\n",
    "#train['PoolQC']\n",
    "\n",
    "# # Impute the 3 true missing values\n",
    "train['PoolQC'] = train['PoolQC'].fillna(train.PoolQC[PoolIndex].mode()[0])"
   ]
  },
  {
   "cell_type": "markdown",
   "metadata": {},
   "source": [
    "### Split into Train and Test Set"
   ]
  },
  {
   "cell_type": "code",
   "execution_count": 95,
   "metadata": {},
   "outputs": [],
   "source": [
    "X_train, X_test, y_train, y_test = train_test_split(X, y, test_size=0.33, random_state=42)"
   ]
  },
  {
   "cell_type": "code",
   "execution_count": 96,
   "metadata": {},
   "outputs": [],
   "source": [
    "y_train.to_csv('./data/y_train.csv', index=False)\n",
    "y_test.to_csv('./data/y_test.csv', index=False)"
   ]
  },
  {
   "cell_type": "code",
   "execution_count": 97,
   "metadata": {},
   "outputs": [
    {
     "name": "stdout",
     "output_type": "stream",
     "text": [
      "(978, 80)\n",
      "(482, 80)\n",
      "(978,)\n"
     ]
    },
    {
     "data": {
      "text/plain": [
       "(482,)"
      ]
     },
     "execution_count": 97,
     "metadata": {},
     "output_type": "execute_result"
    }
   ],
   "source": [
    "print(X_train.shape)\n",
    "print(X_test.shape)\n",
    "print(y_train.shape)\n",
    "y_test.shape"
   ]
  },
  {
   "cell_type": "markdown",
   "metadata": {},
   "source": [
    "### Create temporary 'train' columns to align train and test set before categorical encoding, then drop 'train' "
   ]
  },
  {
   "cell_type": "code",
   "execution_count": 64,
   "metadata": {},
   "outputs": [],
   "source": [
    "X_train['train'] = 1\n",
    "X_test['train'] = 0"
   ]
  },
  {
   "cell_type": "code",
   "execution_count": 65,
   "metadata": {},
   "outputs": [
    {
     "data": {
      "text/plain": [
       "6965"
      ]
     },
     "execution_count": 65,
     "metadata": {},
     "output_type": "execute_result"
    }
   ],
   "source": [
    "combined = pd.concat([X_train, X_test])\n",
    "combined.isna().sum().sum()"
   ]
  },
  {
   "cell_type": "code",
   "execution_count": 66,
   "metadata": {},
   "outputs": [
    {
     "data": {
      "text/plain": [
       "6876"
      ]
     },
     "execution_count": 66,
     "metadata": {},
     "output_type": "execute_result"
    }
   ],
   "source": [
    "# Commbined binary encoding\n",
    "import category_encoders as ce\n",
    "X_combined_binary = combined.copy()\n",
    "cols_binaryenc = ['MSSubClass', 'MSZoning', 'LandContour', 'LotConfig', 'Neighborhood', 'Condition1',\n",
    "                 'Condition2', 'BldgType', 'GarageType', 'HouseStyle', 'RoofStyle', 'RoofMatl',\n",
    "                 'Exterior1st', 'Exterior2nd', 'MasVnrType', 'Foundation',\n",
    "                 'SaleType', 'SaleCondition']\n",
    "encoder2 = ce.BinaryEncoder(cols=cols_binaryenc)\n",
    "X_combined_binary = encoder2.fit_transform(X_combined_binary)\n",
    "X_combined_binary.shape\n",
    "X_combined_binary.isna().sum().sum()"
   ]
  },
  {
   "cell_type": "code",
   "execution_count": 67,
   "metadata": {},
   "outputs": [
    {
     "name": "stdout",
     "output_type": "stream",
     "text": [
      "(1460, 143)\n"
     ]
    },
    {
     "data": {
      "text/plain": [
       "6876"
      ]
     },
     "execution_count": 67,
     "metadata": {},
     "output_type": "execute_result"
    }
   ],
   "source": [
    "# Combined OHE encoding\n",
    "X_combined_ohe = X_combined_binary.copy()\n",
    "\n",
    "cols_ohe = ['Street', 'CentralAir']\n",
    "encoder3 = ce.OneHotEncoder(cols=cols_ohe)\n",
    "X_combined_ohe = encoder3.fit_transform(X_combined_ohe)\n",
    "print(X_combined_ohe.shape)\n",
    "X_combined_ohe.isna().sum().sum()"
   ]
  },
  {
   "cell_type": "code",
   "execution_count": 68,
   "metadata": {},
   "outputs": [
    {
     "name": "stdout",
     "output_type": "stream",
     "text": [
      "(1460, 143)\n"
     ]
    },
    {
     "data": {
      "text/plain": [
       "4302"
      ]
     },
     "execution_count": 68,
     "metadata": {},
     "output_type": "execute_result"
    }
   ],
   "source": [
    "# Combined ordinal encoding\n",
    "X_combined_ordinal = X_combined_ohe.copy()\n",
    "\n",
    "cols_ordinal = ['LotShape', 'Utilities', 'LandSlope', 'ExterCond',\n",
    "               'BsmtQual', 'BsmtCond', 'BsmtExposure', 'BsmtFinType1', 'BsmtFinType2', 'Heating',\n",
    "                'HeatingQC', 'Electrical', 'ExterQual', 'KitchenQual', 'Functional', 'FireplaceQu',\n",
    "                'GarageFinish', 'GarageQual', 'GarageCond', 'PavedDrive', 'PoolQC']\n",
    "\n",
    "encoder4 = ce.ordinal.OrdinalEncoder(cols=cols_ordinal)\n",
    "X_combined_ordinal = encoder4.fit_transform(X_combined_ordinal)\n",
    "print(X_combined_ordinal.shape)\n",
    "X_combined_ordinal.isna().sum().sum()"
   ]
  },
  {
   "cell_type": "code",
   "execution_count": 69,
   "metadata": {},
   "outputs": [],
   "source": [
    "X_train_all_encoded = X_combined_ordinal[X_combined_ordinal['train'] == 1]"
   ]
  },
  {
   "cell_type": "code",
   "execution_count": 70,
   "metadata": {},
   "outputs": [],
   "source": [
    "X_test_all_encoded = X_combined_ordinal[X_combined_ordinal['train'] == 0]"
   ]
  },
  {
   "cell_type": "markdown",
   "metadata": {},
   "source": [
    "### Drop 'train' column to separate concatenated train and test set used for categorical encoding"
   ]
  },
  {
   "cell_type": "code",
   "execution_count": 71,
   "metadata": {},
   "outputs": [],
   "source": [
    "X_train_all_encoded.drop(['train'], axis=1, inplace=True)\n",
    "X_test_all_encoded.drop(['train'], axis=1, inplace=True)"
   ]
  },
  {
   "cell_type": "code",
   "execution_count": 72,
   "metadata": {},
   "outputs": [
    {
     "name": "stdout",
     "output_type": "stream",
     "text": [
      "(978, 142)\n"
     ]
    },
    {
     "data": {
      "text/plain": [
       "(482, 142)"
      ]
     },
     "execution_count": 72,
     "metadata": {},
     "output_type": "execute_result"
    }
   ],
   "source": [
    "print(X_train_all_encoded.shape) # should be (978, 142 if 'train' column dropped)\n",
    "X_test_all_encoded.shape # should be (482, 142 if 'train' column dropped)"
   ]
  },
  {
   "cell_type": "code",
   "execution_count": 73,
   "metadata": {},
   "outputs": [
    {
     "name": "stdout",
     "output_type": "stream",
     "text": [
      "2879\n"
     ]
    },
    {
     "data": {
      "text/plain": [
       "1423"
      ]
     },
     "execution_count": 73,
     "metadata": {},
     "output_type": "execute_result"
    }
   ],
   "source": [
    "print(X_train_all_encoded.isna().sum().sum())\n",
    "X_test_all_encoded.isna().sum().sum()"
   ]
  },
  {
   "cell_type": "markdown",
   "metadata": {},
   "source": [
    "### Imputation: GarageYrBlt/Other Features, Drop Variables"
   ]
  },
  {
   "cell_type": "code",
   "execution_count": 74,
   "metadata": {},
   "outputs": [],
   "source": [
    "# LotFrontage : NA most likely means no lot frontage\n",
    "X_train_all_encoded.loc[:, \"LotFrontage\"] = X_train_all_encoded.loc[:, \"LotFrontage\"].fillna(0)\n",
    "X_train_all_encoded.loc[:, \"MasVnrArea\"] = X_train_all_encoded.loc[:, \"MasVnrArea\"].fillna(0)\n",
    "X_train_all_encoded.loc[:,'Condition2_3'] = X_train_all_encoded.loc[:,'Condition2_3'].fillna(0)\n",
    "X_train_all_encoded.loc[:,'SaleType_4'] = X_train_all_encoded.loc[:,'SaleType_4'].fillna(0)\n",
    "\n",
    "# store index for all houses with missing GarageYrBlt\n",
    "temp = X_train_all_encoded[X_train_all_encoded.GarageYrBlt.isnull() == True].index \n",
    "X_train_all_encoded[\"GarageYrBlt\"]= np.where((X_train_all_encoded.GarageYrBlt.isnull() == True), X_train_all_encoded.YearBuilt,X_train_all_encoded.GarageYrBlt).astype('int64')\n",
    "X_train_all_encoded[\"GarageYrBlt\"][:10,] # impute YearBuilt where missing values in GarageYrBlt, otherwise, use GarageYrBlt\n",
    "\n",
    "# HERE DROP Alley, MiscFeature, MiscVal, Fence, \n",
    "X_train_all_encoded.drop(['Id','Alley', 'MiscFeature', 'MiscVal', 'Fence'], axis=1, inplace=True)"
   ]
  },
  {
   "cell_type": "code",
   "execution_count": 75,
   "metadata": {},
   "outputs": [],
   "source": [
    "X_train_all_encoded.to_csv('./data/X_train_all_encoded.csv', index=False)"
   ]
  },
  {
   "cell_type": "code",
   "execution_count": 76,
   "metadata": {},
   "outputs": [
    {
     "name": "stdout",
     "output_type": "stream",
     "text": [
      "(978, 137)\n"
     ]
    },
    {
     "data": {
      "text/plain": [
       "0"
      ]
     },
     "execution_count": 76,
     "metadata": {},
     "output_type": "execute_result"
    }
   ],
   "source": [
    "print(X_train_all_encoded.shape) #(978, 137) cell above dropped 'Id', 'MiscFeature', etc\n",
    "X_train_all_encoded.isna().sum().sum() "
   ]
  },
  {
   "cell_type": "code",
   "execution_count": 77,
   "metadata": {},
   "outputs": [
    {
     "name": "stdout",
     "output_type": "stream",
     "text": [
      "(482, 137)\n"
     ]
    },
    {
     "data": {
      "text/plain": [
       "0"
      ]
     },
     "execution_count": 77,
     "metadata": {},
     "output_type": "execute_result"
    }
   ],
   "source": [
    "# LotFrontage : NA most likely means no lot frontage\n",
    "X_test_all_encoded.loc[:, \"LotFrontage\"] = X_test_all_encoded.loc[:, \"LotFrontage\"].fillna(0)\n",
    "X_test_all_encoded.loc[:, \"MasVnrArea\"] = X_test_all_encoded.loc[:, \"MasVnrArea\"].fillna(0)\n",
    "# X_test_all_encoded.loc[:,'Condition2_3'] = X_test_all_encoded.loc[:,'Condition2_3'].fillna(0)\n",
    "#X_test_all_encoded.loc[:,'SaleType_4'] = X_test_all_encoded.loc[:,'SaleType_4'].fillna(0)\n",
    "# store index for all houses with missing GarageYrBlt\n",
    "temp = X_test_all_encoded[X_test_all_encoded.GarageYrBlt.isnull() == True].index \n",
    "X_test_all_encoded[\"GarageYrBlt\"]= np.where((X_test_all_encoded.GarageYrBlt.isnull() == True), X_test_all_encoded.YearBuilt,X_test_all_encoded.GarageYrBlt).astype('int64')\n",
    "X_test_all_encoded[\"GarageYrBlt\"][:10,] # impute YearBuilt where missing values in GarageYrBlt, otherwise, use GarageYrBlt\n",
    "\n",
    "# HERE DROP Alley, MiscFeature, MiscVal, Fence, \n",
    "X_test_all_encoded.drop(['Id','Alley', 'MiscFeature', 'MiscVal', 'Fence'], axis=1, inplace=True)\n",
    "print(X_test_all_encoded.shape) #(482, 137) line above dropped 'Id', 'MiscFeature', etc\n",
    "X_test_all_encoded.isna().sum().sum() "
   ]
  },
  {
   "cell_type": "code",
   "execution_count": 78,
   "metadata": {},
   "outputs": [],
   "source": [
    "X_test_all_encoded.to_csv('./data/X_test_all_encoded.csv', index=False)"
   ]
  },
  {
   "cell_type": "code",
   "execution_count": 79,
   "metadata": {},
   "outputs": [
    {
     "name": "stdout",
     "output_type": "stream",
     "text": [
      "(482, 137)\n"
     ]
    },
    {
     "data": {
      "text/plain": [
       "0"
      ]
     },
     "execution_count": 79,
     "metadata": {},
     "output_type": "execute_result"
    }
   ],
   "source": [
    "print(X_test_all_encoded.shape)\n",
    "X_test_all_encoded.isna().sum().sum()"
   ]
  },
  {
   "cell_type": "markdown",
   "metadata": {},
   "source": [
    "### Filter by Variance, drop if equals 0"
   ]
  },
  {
   "cell_type": "code",
   "execution_count": 80,
   "metadata": {},
   "outputs": [
    {
     "data": {
      "text/plain": [
       "MSSubClass_0        True\n",
       "LotConfig_0         True\n",
       "Neighborhood_0      True\n",
       "Condition1_0        True\n",
       "Condition2_0        True\n",
       "BldgType_0          True\n",
       "RoofMatl_0          True\n",
       "Exterior1st_0       True\n",
       "RoofStyle_0         True\n",
       "MasVnrType_0        True\n",
       "Foundation_0        True\n",
       "GarageType_0        True\n",
       "SaleType_0          True\n",
       "SaleCondition_0     True\n",
       "MSZoning_0          True\n",
       "Utilities          False\n",
       "SaleType_1         False\n",
       "Exterior2nd_0      False\n",
       "Street_1           False\n",
       "Street_2           False\n",
       "Condition2_1       False\n",
       "Condition2_2       False\n",
       "Condition1_1       False\n",
       "RoofMatl_3         False\n",
       "Condition2_3       False\n",
       "HouseStyle_0       False\n",
       "RoofMatl_1         False\n",
       "RoofMatl_2         False\n",
       "MasVnrType_1       False\n",
       "PoolQC             False\n",
       "RoofStyle_1        False\n",
       "Foundation_1       False\n",
       "SaleCondition_1    False\n",
       "LandContour_0      False\n",
       "SaleType_2         False\n",
       "BldgType_1         False\n",
       "MSZoning_1         False\n",
       "Exterior2nd_1      False\n",
       "Condition1_2       False\n",
       "LandContour_1      False\n",
       "Exterior1st_1      False\n",
       "LandContour_2      False\n",
       "CentralAir_2       False\n",
       "CentralAir_1       False\n",
       "LotConfig_1        False\n",
       "GarageType_1       False\n",
       "LandSlope          False\n",
       "SaleCondition_2    False\n",
       "Condition1_4       False\n",
       "SaleCondition_3    False\n",
       "BldgType_3         False\n",
       "Condition1_3       False\n",
       "BldgType_2         False\n",
       "SaleType_3         False\n",
       "SaleType_4         False\n",
       "GarageType_3       False\n",
       "MSZoning_2         False\n",
       "PavedDrive         False\n",
       "HouseStyle_1       False\n",
       "ExterCond          False\n",
       "MSZoning_3         False\n",
       "HouseStyle_2       False\n",
       "Heating            False\n",
       "RoofStyle_2        False\n",
       "RoofStyle_3        False\n",
       "Neighborhood_1     False\n",
       "MSSubClass_1       False\n",
       "LotConfig_2        False\n",
       "Electrical         False\n",
       "LotConfig_3        False\n",
       "Exterior1st_2      False\n",
       "Exterior2nd_2      False\n",
       "Neighborhood_2     False\n",
       "GarageType_2       False\n",
       "MasVnrType_2       False\n",
       "Exterior2nd_3      False\n",
       "MSSubClass_4       False\n",
       "Exterior2nd_4      False\n",
       "Exterior1st_4      False\n",
       "Exterior1st_3      False\n",
       "MSSubClass_2       False\n",
       "MasVnrType_3       False\n",
       "MSSubClass_3       False\n",
       "HouseStyle_3       False\n",
       "Foundation_3       False\n",
       "Neighborhood_5     False\n",
       "Foundation_2       False\n",
       "Neighborhood_3     False\n",
       "Neighborhood_4     False\n",
       "GarageCond         False\n",
       "ExterQual          False\n",
       "BsmtCond           False\n",
       "GarageQual         False\n",
       "LotShape           False\n",
       "KitchenQual        False\n",
       "GarageYrBlt        False\n",
       "BsmtExposure       False\n",
       "HeatingQC          False\n",
       "BsmtQual           False\n",
       "PoolArea           False\n",
       "BsmtFinSF2         False\n",
       "Functional         False\n",
       "LotFrontage        False\n",
       "MasVnrArea         False\n",
       "KitchenAbvGr       False\n",
       "LowQualFinSF       False\n",
       "GarageCars         False\n",
       "GarageArea         False\n",
       "HalfBath           False\n",
       "MoSold             False\n",
       "FullBath           False\n",
       "OverallQual        False\n",
       "BedroomAbvGr       False\n",
       "TotRmsAbvGrd       False\n",
       "GrLivArea          False\n",
       "YrSold             False\n",
       "OverallCond        False\n",
       "BsmtFullBath       False\n",
       "BsmtUnfSF          False\n",
       "YearRemodAdd       False\n",
       "2ndFlrSF           False\n",
       "1stFlrSF           False\n",
       "BsmtFinSF1         False\n",
       "Fireplaces         False\n",
       "EnclosedPorch      False\n",
       "YearBuilt          False\n",
       "ScreenPorch        False\n",
       "TotalBsmtSF        False\n",
       "BsmtHalfBath       False\n",
       "WoodDeckSF         False\n",
       "OpenPorchSF        False\n",
       "3SsnPorch          False\n",
       "GarageFinish       False\n",
       "LotArea            False\n",
       "BsmtFinType2       False\n",
       "FireplaceQu        False\n",
       "BsmtFinType1       False\n",
       "dtype: bool"
      ]
     },
     "execution_count": 80,
     "metadata": {},
     "output_type": "execute_result"
    }
   ],
   "source": [
    "X_train_all_encoded.var().sort_values(ascending=True) == 0"
   ]
  },
  {
   "cell_type": "markdown",
   "metadata": {},
   "source": [
    "### Drop: Zero Variance "
   ]
  },
  {
   "cell_type": "code",
   "execution_count": 81,
   "metadata": {},
   "outputs": [],
   "source": [
    "X_train_all_encoded2 = X_train_all_encoded.drop(['MSSubClass_0', 'MSZoning_0', 'LotConfig_0', 'Neighborhood_0',\n",
    "               'Condition1_0', 'Condition2_0', 'BldgType_0', 'RoofStyle_0', 'RoofMatl_0', 'Exterior1st_0',\n",
    "            'MasVnrType_0', 'Foundation_0', 'GarageType_0', 'SaleType_0', 'SaleCondition_0'], axis=1)"
   ]
  },
  {
   "cell_type": "code",
   "execution_count": 82,
   "metadata": {},
   "outputs": [
    {
     "data": {
      "text/html": [
       "<div>\n",
       "<style scoped>\n",
       "    .dataframe tbody tr th:only-of-type {\n",
       "        vertical-align: middle;\n",
       "    }\n",
       "\n",
       "    .dataframe tbody tr th {\n",
       "        vertical-align: top;\n",
       "    }\n",
       "\n",
       "    .dataframe thead th {\n",
       "        text-align: right;\n",
       "    }\n",
       "</style>\n",
       "<table border=\"1\" class=\"dataframe\">\n",
       "  <thead>\n",
       "    <tr style=\"text-align: right;\">\n",
       "      <th></th>\n",
       "      <th>MSSubClass_1</th>\n",
       "      <th>MSSubClass_2</th>\n",
       "      <th>MSSubClass_3</th>\n",
       "      <th>MSSubClass_4</th>\n",
       "      <th>LotFrontage</th>\n",
       "      <th>LotArea</th>\n",
       "      <th>OverallQual</th>\n",
       "      <th>OverallCond</th>\n",
       "      <th>YearBuilt</th>\n",
       "      <th>YearRemodAdd</th>\n",
       "      <th>MasVnrArea</th>\n",
       "      <th>BsmtFinSF1</th>\n",
       "      <th>BsmtFinSF2</th>\n",
       "      <th>BsmtUnfSF</th>\n",
       "      <th>TotalBsmtSF</th>\n",
       "      <th>1stFlrSF</th>\n",
       "      <th>2ndFlrSF</th>\n",
       "      <th>LowQualFinSF</th>\n",
       "      <th>GrLivArea</th>\n",
       "      <th>BsmtFullBath</th>\n",
       "      <th>BsmtHalfBath</th>\n",
       "      <th>FullBath</th>\n",
       "      <th>HalfBath</th>\n",
       "      <th>BedroomAbvGr</th>\n",
       "      <th>KitchenAbvGr</th>\n",
       "      <th>TotRmsAbvGrd</th>\n",
       "      <th>Fireplaces</th>\n",
       "      <th>GarageYrBlt</th>\n",
       "      <th>GarageCars</th>\n",
       "      <th>GarageArea</th>\n",
       "      <th>WoodDeckSF</th>\n",
       "      <th>OpenPorchSF</th>\n",
       "      <th>EnclosedPorch</th>\n",
       "      <th>3SsnPorch</th>\n",
       "      <th>ScreenPorch</th>\n",
       "      <th>PoolArea</th>\n",
       "      <th>MoSold</th>\n",
       "      <th>YrSold</th>\n",
       "      <th>MSZoning_1</th>\n",
       "      <th>MSZoning_2</th>\n",
       "      <th>MSZoning_3</th>\n",
       "      <th>Street_1</th>\n",
       "      <th>Street_2</th>\n",
       "      <th>LotShape</th>\n",
       "      <th>LandContour_0</th>\n",
       "      <th>LandContour_1</th>\n",
       "      <th>LandContour_2</th>\n",
       "      <th>Utilities</th>\n",
       "      <th>LotConfig_1</th>\n",
       "      <th>LotConfig_2</th>\n",
       "      <th>LotConfig_3</th>\n",
       "      <th>LandSlope</th>\n",
       "      <th>Neighborhood_1</th>\n",
       "      <th>Neighborhood_2</th>\n",
       "      <th>Neighborhood_3</th>\n",
       "      <th>Neighborhood_4</th>\n",
       "      <th>Neighborhood_5</th>\n",
       "      <th>Condition1_1</th>\n",
       "      <th>Condition1_2</th>\n",
       "      <th>Condition1_3</th>\n",
       "      <th>Condition1_4</th>\n",
       "      <th>Condition2_1</th>\n",
       "      <th>Condition2_2</th>\n",
       "      <th>Condition2_3</th>\n",
       "      <th>BldgType_1</th>\n",
       "      <th>BldgType_2</th>\n",
       "      <th>BldgType_3</th>\n",
       "      <th>HouseStyle_0</th>\n",
       "      <th>HouseStyle_1</th>\n",
       "      <th>HouseStyle_2</th>\n",
       "      <th>HouseStyle_3</th>\n",
       "      <th>RoofStyle_1</th>\n",
       "      <th>RoofStyle_2</th>\n",
       "      <th>RoofStyle_3</th>\n",
       "      <th>RoofMatl_1</th>\n",
       "      <th>RoofMatl_2</th>\n",
       "      <th>RoofMatl_3</th>\n",
       "      <th>Exterior1st_1</th>\n",
       "      <th>Exterior1st_2</th>\n",
       "      <th>Exterior1st_3</th>\n",
       "      <th>Exterior1st_4</th>\n",
       "      <th>Exterior2nd_0</th>\n",
       "      <th>Exterior2nd_1</th>\n",
       "      <th>Exterior2nd_2</th>\n",
       "      <th>Exterior2nd_3</th>\n",
       "      <th>Exterior2nd_4</th>\n",
       "      <th>MasVnrType_1</th>\n",
       "      <th>MasVnrType_2</th>\n",
       "      <th>MasVnrType_3</th>\n",
       "      <th>ExterQual</th>\n",
       "      <th>ExterCond</th>\n",
       "      <th>Foundation_1</th>\n",
       "      <th>Foundation_2</th>\n",
       "      <th>Foundation_3</th>\n",
       "      <th>BsmtQual</th>\n",
       "      <th>BsmtCond</th>\n",
       "      <th>BsmtExposure</th>\n",
       "      <th>BsmtFinType1</th>\n",
       "      <th>BsmtFinType2</th>\n",
       "      <th>Heating</th>\n",
       "      <th>HeatingQC</th>\n",
       "      <th>CentralAir_1</th>\n",
       "      <th>CentralAir_2</th>\n",
       "      <th>Electrical</th>\n",
       "      <th>KitchenQual</th>\n",
       "      <th>Functional</th>\n",
       "      <th>FireplaceQu</th>\n",
       "      <th>GarageType_1</th>\n",
       "      <th>GarageType_2</th>\n",
       "      <th>GarageType_3</th>\n",
       "      <th>GarageFinish</th>\n",
       "      <th>GarageQual</th>\n",
       "      <th>GarageCond</th>\n",
       "      <th>PavedDrive</th>\n",
       "      <th>PoolQC</th>\n",
       "      <th>SaleType_1</th>\n",
       "      <th>SaleType_2</th>\n",
       "      <th>SaleType_3</th>\n",
       "      <th>SaleType_4</th>\n",
       "      <th>SaleCondition_1</th>\n",
       "      <th>SaleCondition_2</th>\n",
       "      <th>SaleCondition_3</th>\n",
       "    </tr>\n",
       "  </thead>\n",
       "  <tbody>\n",
       "    <tr>\n",
       "      <th>0</th>\n",
       "      <td>0</td>\n",
       "      <td>0</td>\n",
       "      <td>0</td>\n",
       "      <td>1</td>\n",
       "      <td>0.409895</td>\n",
       "      <td>-0.172064</td>\n",
       "      <td>-0.071836</td>\n",
       "      <td>1.280685</td>\n",
       "      <td>-0.273836</td>\n",
       "      <td>-1.059473</td>\n",
       "      <td>0.289026</td>\n",
       "      <td>0.700441</td>\n",
       "      <td>-0.288653</td>\n",
       "      <td>-0.892521</td>\n",
       "      <td>-0.276885</td>\n",
       "      <td>-0.281085</td>\n",
       "      <td>-0.795163</td>\n",
       "      <td>-0.120242</td>\n",
       "      <td>-0.878476</td>\n",
       "      <td>1.107810</td>\n",
       "      <td>-0.241061</td>\n",
       "      <td>-1.026041</td>\n",
       "      <td>-0.761621</td>\n",
       "      <td>0.163779</td>\n",
       "      <td>-0.211454</td>\n",
       "      <td>-0.318683</td>\n",
       "      <td>-0.951226</td>\n",
       "      <td>0</td>\n",
       "      <td>0.311725</td>\n",
       "      <td>0.032844</td>\n",
       "      <td>0.205557</td>\n",
       "      <td>-0.704483</td>\n",
       "      <td>-0.359325</td>\n",
       "      <td>-0.116339</td>\n",
       "      <td>-0.270208</td>\n",
       "      <td>-0.068692</td>\n",
       "      <td>-0.489110</td>\n",
       "      <td>1.645210</td>\n",
       "      <td>0</td>\n",
       "      <td>0</td>\n",
       "      <td>1</td>\n",
       "      <td>1</td>\n",
       "      <td>0</td>\n",
       "      <td>1</td>\n",
       "      <td>0</td>\n",
       "      <td>0</td>\n",
       "      <td>1</td>\n",
       "      <td>1</td>\n",
       "      <td>0</td>\n",
       "      <td>0</td>\n",
       "      <td>1</td>\n",
       "      <td>1</td>\n",
       "      <td>0</td>\n",
       "      <td>0</td>\n",
       "      <td>0</td>\n",
       "      <td>0</td>\n",
       "      <td>1</td>\n",
       "      <td>0</td>\n",
       "      <td>0</td>\n",
       "      <td>0</td>\n",
       "      <td>1</td>\n",
       "      <td>0</td>\n",
       "      <td>0</td>\n",
       "      <td>1</td>\n",
       "      <td>0</td>\n",
       "      <td>0</td>\n",
       "      <td>1</td>\n",
       "      <td>0</td>\n",
       "      <td>0</td>\n",
       "      <td>0</td>\n",
       "      <td>1</td>\n",
       "      <td>0</td>\n",
       "      <td>0</td>\n",
       "      <td>1</td>\n",
       "      <td>0</td>\n",
       "      <td>0</td>\n",
       "      <td>1</td>\n",
       "      <td>0</td>\n",
       "      <td>0</td>\n",
       "      <td>0</td>\n",
       "      <td>1</td>\n",
       "      <td>0</td>\n",
       "      <td>0</td>\n",
       "      <td>0</td>\n",
       "      <td>0</td>\n",
       "      <td>1</td>\n",
       "      <td>0</td>\n",
       "      <td>0</td>\n",
       "      <td>1</td>\n",
       "      <td>1</td>\n",
       "      <td>1</td>\n",
       "      <td>0</td>\n",
       "      <td>0</td>\n",
       "      <td>1</td>\n",
       "      <td>1</td>\n",
       "      <td>1</td>\n",
       "      <td>1</td>\n",
       "      <td>1</td>\n",
       "      <td>1</td>\n",
       "      <td>1</td>\n",
       "      <td>1</td>\n",
       "      <td>1</td>\n",
       "      <td>0</td>\n",
       "      <td>1</td>\n",
       "      <td>1</td>\n",
       "      <td>1</td>\n",
       "      <td>1</td>\n",
       "      <td>0</td>\n",
       "      <td>0</td>\n",
       "      <td>1</td>\n",
       "      <td>1</td>\n",
       "      <td>1</td>\n",
       "      <td>1</td>\n",
       "      <td>1</td>\n",
       "      <td>1</td>\n",
       "      <td>0</td>\n",
       "      <td>0</td>\n",
       "      <td>0</td>\n",
       "      <td>1</td>\n",
       "      <td>0</td>\n",
       "      <td>0</td>\n",
       "      <td>1</td>\n",
       "    </tr>\n",
       "    <tr>\n",
       "      <th>1</th>\n",
       "      <td>0</td>\n",
       "      <td>0</td>\n",
       "      <td>1</td>\n",
       "      <td>0</td>\n",
       "      <td>-0.002058</td>\n",
       "      <td>-0.211952</td>\n",
       "      <td>-0.795151</td>\n",
       "      <td>-0.517200</td>\n",
       "      <td>1.183477</td>\n",
       "      <td>1.072482</td>\n",
       "      <td>-0.572835</td>\n",
       "      <td>-0.521206</td>\n",
       "      <td>-0.288653</td>\n",
       "      <td>0.785029</td>\n",
       "      <td>0.142674</td>\n",
       "      <td>-0.110302</td>\n",
       "      <td>-0.795163</td>\n",
       "      <td>-0.120242</td>\n",
       "      <td>-0.752833</td>\n",
       "      <td>-0.819964</td>\n",
       "      <td>-0.241061</td>\n",
       "      <td>-1.026041</td>\n",
       "      <td>-0.761621</td>\n",
       "      <td>0.163779</td>\n",
       "      <td>-0.211454</td>\n",
       "      <td>-0.318683</td>\n",
       "      <td>-0.951226</td>\n",
       "      <td>1</td>\n",
       "      <td>-2.365440</td>\n",
       "      <td>-2.212963</td>\n",
       "      <td>-0.752176</td>\n",
       "      <td>-0.251539</td>\n",
       "      <td>-0.359325</td>\n",
       "      <td>-0.116339</td>\n",
       "      <td>-0.270208</td>\n",
       "      <td>-0.068692</td>\n",
       "      <td>2.100892</td>\n",
       "      <td>-0.614439</td>\n",
       "      <td>0</td>\n",
       "      <td>0</td>\n",
       "      <td>1</td>\n",
       "      <td>1</td>\n",
       "      <td>0</td>\n",
       "      <td>1</td>\n",
       "      <td>0</td>\n",
       "      <td>0</td>\n",
       "      <td>1</td>\n",
       "      <td>1</td>\n",
       "      <td>0</td>\n",
       "      <td>0</td>\n",
       "      <td>1</td>\n",
       "      <td>1</td>\n",
       "      <td>0</td>\n",
       "      <td>0</td>\n",
       "      <td>0</td>\n",
       "      <td>1</td>\n",
       "      <td>0</td>\n",
       "      <td>0</td>\n",
       "      <td>0</td>\n",
       "      <td>0</td>\n",
       "      <td>1</td>\n",
       "      <td>0</td>\n",
       "      <td>0</td>\n",
       "      <td>1</td>\n",
       "      <td>0</td>\n",
       "      <td>0</td>\n",
       "      <td>1</td>\n",
       "      <td>0</td>\n",
       "      <td>0</td>\n",
       "      <td>1</td>\n",
       "      <td>0</td>\n",
       "      <td>0</td>\n",
       "      <td>0</td>\n",
       "      <td>1</td>\n",
       "      <td>0</td>\n",
       "      <td>0</td>\n",
       "      <td>1</td>\n",
       "      <td>0</td>\n",
       "      <td>0</td>\n",
       "      <td>1</td>\n",
       "      <td>0</td>\n",
       "      <td>0</td>\n",
       "      <td>0</td>\n",
       "      <td>0</td>\n",
       "      <td>1</td>\n",
       "      <td>0</td>\n",
       "      <td>0</td>\n",
       "      <td>1</td>\n",
       "      <td>0</td>\n",
       "      <td>1</td>\n",
       "      <td>2</td>\n",
       "      <td>0</td>\n",
       "      <td>0</td>\n",
       "      <td>1</td>\n",
       "      <td>2</td>\n",
       "      <td>1</td>\n",
       "      <td>2</td>\n",
       "      <td>2</td>\n",
       "      <td>1</td>\n",
       "      <td>1</td>\n",
       "      <td>1</td>\n",
       "      <td>1</td>\n",
       "      <td>0</td>\n",
       "      <td>1</td>\n",
       "      <td>2</td>\n",
       "      <td>1</td>\n",
       "      <td>1</td>\n",
       "      <td>0</td>\n",
       "      <td>1</td>\n",
       "      <td>0</td>\n",
       "      <td>2</td>\n",
       "      <td>2</td>\n",
       "      <td>2</td>\n",
       "      <td>1</td>\n",
       "      <td>1</td>\n",
       "      <td>0</td>\n",
       "      <td>0</td>\n",
       "      <td>1</td>\n",
       "      <td>0</td>\n",
       "      <td>0</td>\n",
       "      <td>1</td>\n",
       "      <td>0</td>\n",
       "    </tr>\n",
       "    <tr>\n",
       "      <th>2</th>\n",
       "      <td>0</td>\n",
       "      <td>0</td>\n",
       "      <td>1</td>\n",
       "      <td>0</td>\n",
       "      <td>0.121528</td>\n",
       "      <td>-0.183289</td>\n",
       "      <td>0.651479</td>\n",
       "      <td>-0.517200</td>\n",
       "      <td>1.117235</td>\n",
       "      <td>0.975575</td>\n",
       "      <td>0.686807</td>\n",
       "      <td>-0.973018</td>\n",
       "      <td>-0.288653</td>\n",
       "      <td>2.374287</td>\n",
       "      <td>1.273661</td>\n",
       "      <td>1.173158</td>\n",
       "      <td>-0.795163</td>\n",
       "      <td>-0.120242</td>\n",
       "      <td>0.191388</td>\n",
       "      <td>-0.819964</td>\n",
       "      <td>-0.241061</td>\n",
       "      <td>0.789741</td>\n",
       "      <td>-0.761621</td>\n",
       "      <td>0.163779</td>\n",
       "      <td>-0.211454</td>\n",
       "      <td>0.296763</td>\n",
       "      <td>-0.951226</td>\n",
       "      <td>1</td>\n",
       "      <td>1.650307</td>\n",
       "      <td>1.689127</td>\n",
       "      <td>0.907895</td>\n",
       "      <td>0.186307</td>\n",
       "      <td>-0.359325</td>\n",
       "      <td>-0.116339</td>\n",
       "      <td>-0.270208</td>\n",
       "      <td>-0.068692</td>\n",
       "      <td>-0.859110</td>\n",
       "      <td>-1.367655</td>\n",
       "      <td>0</td>\n",
       "      <td>0</td>\n",
       "      <td>1</td>\n",
       "      <td>1</td>\n",
       "      <td>0</td>\n",
       "      <td>1</td>\n",
       "      <td>0</td>\n",
       "      <td>0</td>\n",
       "      <td>1</td>\n",
       "      <td>1</td>\n",
       "      <td>0</td>\n",
       "      <td>0</td>\n",
       "      <td>1</td>\n",
       "      <td>1</td>\n",
       "      <td>0</td>\n",
       "      <td>0</td>\n",
       "      <td>0</td>\n",
       "      <td>1</td>\n",
       "      <td>1</td>\n",
       "      <td>0</td>\n",
       "      <td>0</td>\n",
       "      <td>1</td>\n",
       "      <td>0</td>\n",
       "      <td>0</td>\n",
       "      <td>0</td>\n",
       "      <td>1</td>\n",
       "      <td>0</td>\n",
       "      <td>0</td>\n",
       "      <td>1</td>\n",
       "      <td>0</td>\n",
       "      <td>0</td>\n",
       "      <td>1</td>\n",
       "      <td>0</td>\n",
       "      <td>0</td>\n",
       "      <td>0</td>\n",
       "      <td>1</td>\n",
       "      <td>0</td>\n",
       "      <td>0</td>\n",
       "      <td>1</td>\n",
       "      <td>0</td>\n",
       "      <td>0</td>\n",
       "      <td>1</td>\n",
       "      <td>0</td>\n",
       "      <td>0</td>\n",
       "      <td>0</td>\n",
       "      <td>0</td>\n",
       "      <td>1</td>\n",
       "      <td>0</td>\n",
       "      <td>0</td>\n",
       "      <td>0</td>\n",
       "      <td>1</td>\n",
       "      <td>2</td>\n",
       "      <td>2</td>\n",
       "      <td>0</td>\n",
       "      <td>0</td>\n",
       "      <td>1</td>\n",
       "      <td>2</td>\n",
       "      <td>1</td>\n",
       "      <td>3</td>\n",
       "      <td>3</td>\n",
       "      <td>1</td>\n",
       "      <td>1</td>\n",
       "      <td>1</td>\n",
       "      <td>1</td>\n",
       "      <td>0</td>\n",
       "      <td>1</td>\n",
       "      <td>1</td>\n",
       "      <td>1</td>\n",
       "      <td>1</td>\n",
       "      <td>0</td>\n",
       "      <td>0</td>\n",
       "      <td>1</td>\n",
       "      <td>1</td>\n",
       "      <td>1</td>\n",
       "      <td>1</td>\n",
       "      <td>1</td>\n",
       "      <td>1</td>\n",
       "      <td>0</td>\n",
       "      <td>0</td>\n",
       "      <td>0</td>\n",
       "      <td>1</td>\n",
       "      <td>0</td>\n",
       "      <td>1</td>\n",
       "      <td>1</td>\n",
       "    </tr>\n",
       "    <tr>\n",
       "      <th>3</th>\n",
       "      <td>0</td>\n",
       "      <td>0</td>\n",
       "      <td>1</td>\n",
       "      <td>0</td>\n",
       "      <td>0.368699</td>\n",
       "      <td>-0.022833</td>\n",
       "      <td>-0.795151</td>\n",
       "      <td>1.280685</td>\n",
       "      <td>-0.207594</td>\n",
       "      <td>-0.962566</td>\n",
       "      <td>0.355322</td>\n",
       "      <td>0.860549</td>\n",
       "      <td>-0.288653</td>\n",
       "      <td>-0.747631</td>\n",
       "      <td>0.035504</td>\n",
       "      <td>-0.231920</td>\n",
       "      <td>-0.795163</td>\n",
       "      <td>-0.120242</td>\n",
       "      <td>-0.842306</td>\n",
       "      <td>1.107810</td>\n",
       "      <td>-0.241061</td>\n",
       "      <td>-1.026041</td>\n",
       "      <td>1.227585</td>\n",
       "      <td>0.163779</td>\n",
       "      <td>-0.211454</td>\n",
       "      <td>-0.318683</td>\n",
       "      <td>-0.951226</td>\n",
       "      <td>0</td>\n",
       "      <td>0.311725</td>\n",
       "      <td>0.196601</td>\n",
       "      <td>-0.752176</td>\n",
       "      <td>-0.704483</td>\n",
       "      <td>-0.359325</td>\n",
       "      <td>-0.116339</td>\n",
       "      <td>-0.270208</td>\n",
       "      <td>-0.068692</td>\n",
       "      <td>-0.119110</td>\n",
       "      <td>-0.614439</td>\n",
       "      <td>0</td>\n",
       "      <td>0</td>\n",
       "      <td>1</td>\n",
       "      <td>1</td>\n",
       "      <td>0</td>\n",
       "      <td>1</td>\n",
       "      <td>0</td>\n",
       "      <td>0</td>\n",
       "      <td>1</td>\n",
       "      <td>1</td>\n",
       "      <td>0</td>\n",
       "      <td>0</td>\n",
       "      <td>1</td>\n",
       "      <td>1</td>\n",
       "      <td>0</td>\n",
       "      <td>0</td>\n",
       "      <td>0</td>\n",
       "      <td>0</td>\n",
       "      <td>1</td>\n",
       "      <td>0</td>\n",
       "      <td>0</td>\n",
       "      <td>1</td>\n",
       "      <td>0</td>\n",
       "      <td>0</td>\n",
       "      <td>0</td>\n",
       "      <td>1</td>\n",
       "      <td>0</td>\n",
       "      <td>0</td>\n",
       "      <td>1</td>\n",
       "      <td>0</td>\n",
       "      <td>0</td>\n",
       "      <td>1</td>\n",
       "      <td>0</td>\n",
       "      <td>0</td>\n",
       "      <td>1</td>\n",
       "      <td>0</td>\n",
       "      <td>0</td>\n",
       "      <td>0</td>\n",
       "      <td>1</td>\n",
       "      <td>0</td>\n",
       "      <td>0</td>\n",
       "      <td>0</td>\n",
       "      <td>1</td>\n",
       "      <td>0</td>\n",
       "      <td>0</td>\n",
       "      <td>0</td>\n",
       "      <td>0</td>\n",
       "      <td>1</td>\n",
       "      <td>0</td>\n",
       "      <td>0</td>\n",
       "      <td>1</td>\n",
       "      <td>1</td>\n",
       "      <td>2</td>\n",
       "      <td>0</td>\n",
       "      <td>1</td>\n",
       "      <td>0</td>\n",
       "      <td>1</td>\n",
       "      <td>1</td>\n",
       "      <td>2</td>\n",
       "      <td>2</td>\n",
       "      <td>1</td>\n",
       "      <td>1</td>\n",
       "      <td>2</td>\n",
       "      <td>1</td>\n",
       "      <td>0</td>\n",
       "      <td>1</td>\n",
       "      <td>2</td>\n",
       "      <td>1</td>\n",
       "      <td>1</td>\n",
       "      <td>0</td>\n",
       "      <td>0</td>\n",
       "      <td>1</td>\n",
       "      <td>1</td>\n",
       "      <td>1</td>\n",
       "      <td>1</td>\n",
       "      <td>1</td>\n",
       "      <td>1</td>\n",
       "      <td>0</td>\n",
       "      <td>0</td>\n",
       "      <td>0</td>\n",
       "      <td>1</td>\n",
       "      <td>0</td>\n",
       "      <td>1</td>\n",
       "      <td>1</td>\n",
       "    </tr>\n",
       "    <tr>\n",
       "      <th>4</th>\n",
       "      <td>0</td>\n",
       "      <td>0</td>\n",
       "      <td>1</td>\n",
       "      <td>0</td>\n",
       "      <td>0.286309</td>\n",
       "      <td>-0.050795</td>\n",
       "      <td>-0.795151</td>\n",
       "      <td>-0.517200</td>\n",
       "      <td>0.090492</td>\n",
       "      <td>-0.478030</td>\n",
       "      <td>-0.572835</td>\n",
       "      <td>1.375965</td>\n",
       "      <td>0.474072</td>\n",
       "      <td>-0.842715</td>\n",
       "      <td>0.756052</td>\n",
       "      <td>0.585768</td>\n",
       "      <td>-0.795163</td>\n",
       "      <td>-0.120242</td>\n",
       "      <td>-0.240745</td>\n",
       "      <td>1.107810</td>\n",
       "      <td>-0.241061</td>\n",
       "      <td>-1.026041</td>\n",
       "      <td>-0.761621</td>\n",
       "      <td>-1.062465</td>\n",
       "      <td>-0.211454</td>\n",
       "      <td>-0.318683</td>\n",
       "      <td>0.600495</td>\n",
       "      <td>0</td>\n",
       "      <td>0.311725</td>\n",
       "      <td>-0.257239</td>\n",
       "      <td>1.163290</td>\n",
       "      <td>-0.130754</td>\n",
       "      <td>-0.359325</td>\n",
       "      <td>-0.116339</td>\n",
       "      <td>-0.270208</td>\n",
       "      <td>-0.068692</td>\n",
       "      <td>-0.859110</td>\n",
       "      <td>-1.367655</td>\n",
       "      <td>0</td>\n",
       "      <td>0</td>\n",
       "      <td>1</td>\n",
       "      <td>1</td>\n",
       "      <td>0</td>\n",
       "      <td>1</td>\n",
       "      <td>0</td>\n",
       "      <td>0</td>\n",
       "      <td>1</td>\n",
       "      <td>1</td>\n",
       "      <td>0</td>\n",
       "      <td>0</td>\n",
       "      <td>1</td>\n",
       "      <td>2</td>\n",
       "      <td>0</td>\n",
       "      <td>0</td>\n",
       "      <td>0</td>\n",
       "      <td>1</td>\n",
       "      <td>0</td>\n",
       "      <td>0</td>\n",
       "      <td>0</td>\n",
       "      <td>1</td>\n",
       "      <td>0</td>\n",
       "      <td>0</td>\n",
       "      <td>0</td>\n",
       "      <td>1</td>\n",
       "      <td>0</td>\n",
       "      <td>0</td>\n",
       "      <td>1</td>\n",
       "      <td>0</td>\n",
       "      <td>0</td>\n",
       "      <td>1</td>\n",
       "      <td>0</td>\n",
       "      <td>0</td>\n",
       "      <td>0</td>\n",
       "      <td>1</td>\n",
       "      <td>0</td>\n",
       "      <td>0</td>\n",
       "      <td>1</td>\n",
       "      <td>0</td>\n",
       "      <td>0</td>\n",
       "      <td>1</td>\n",
       "      <td>1</td>\n",
       "      <td>0</td>\n",
       "      <td>0</td>\n",
       "      <td>0</td>\n",
       "      <td>1</td>\n",
       "      <td>1</td>\n",
       "      <td>0</td>\n",
       "      <td>1</td>\n",
       "      <td>0</td>\n",
       "      <td>1</td>\n",
       "      <td>2</td>\n",
       "      <td>0</td>\n",
       "      <td>1</td>\n",
       "      <td>0</td>\n",
       "      <td>2</td>\n",
       "      <td>1</td>\n",
       "      <td>3</td>\n",
       "      <td>2</td>\n",
       "      <td>2</td>\n",
       "      <td>1</td>\n",
       "      <td>3</td>\n",
       "      <td>1</td>\n",
       "      <td>0</td>\n",
       "      <td>1</td>\n",
       "      <td>2</td>\n",
       "      <td>1</td>\n",
       "      <td>2</td>\n",
       "      <td>0</td>\n",
       "      <td>0</td>\n",
       "      <td>1</td>\n",
       "      <td>1</td>\n",
       "      <td>1</td>\n",
       "      <td>1</td>\n",
       "      <td>1</td>\n",
       "      <td>1</td>\n",
       "      <td>0</td>\n",
       "      <td>0</td>\n",
       "      <td>0</td>\n",
       "      <td>1</td>\n",
       "      <td>0</td>\n",
       "      <td>1</td>\n",
       "      <td>1</td>\n",
       "    </tr>\n",
       "  </tbody>\n",
       "</table>\n",
       "</div>"
      ],
      "text/plain": [
       "   MSSubClass_1  MSSubClass_2  MSSubClass_3  MSSubClass_4  LotFrontage  \\\n",
       "0             0             0             0             1     0.409895   \n",
       "1             0             0             1             0    -0.002058   \n",
       "2             0             0             1             0     0.121528   \n",
       "3             0             0             1             0     0.368699   \n",
       "4             0             0             1             0     0.286309   \n",
       "\n",
       "    LotArea  OverallQual  OverallCond  YearBuilt  YearRemodAdd  MasVnrArea  \\\n",
       "0 -0.172064    -0.071836     1.280685  -0.273836     -1.059473    0.289026   \n",
       "1 -0.211952    -0.795151    -0.517200   1.183477      1.072482   -0.572835   \n",
       "2 -0.183289     0.651479    -0.517200   1.117235      0.975575    0.686807   \n",
       "3 -0.022833    -0.795151     1.280685  -0.207594     -0.962566    0.355322   \n",
       "4 -0.050795    -0.795151    -0.517200   0.090492     -0.478030   -0.572835   \n",
       "\n",
       "   BsmtFinSF1  BsmtFinSF2  BsmtUnfSF  TotalBsmtSF  1stFlrSF  2ndFlrSF  \\\n",
       "0    0.700441   -0.288653  -0.892521    -0.276885 -0.281085 -0.795163   \n",
       "1   -0.521206   -0.288653   0.785029     0.142674 -0.110302 -0.795163   \n",
       "2   -0.973018   -0.288653   2.374287     1.273661  1.173158 -0.795163   \n",
       "3    0.860549   -0.288653  -0.747631     0.035504 -0.231920 -0.795163   \n",
       "4    1.375965    0.474072  -0.842715     0.756052  0.585768 -0.795163   \n",
       "\n",
       "   LowQualFinSF  GrLivArea  BsmtFullBath  BsmtHalfBath  FullBath  HalfBath  \\\n",
       "0     -0.120242  -0.878476      1.107810     -0.241061 -1.026041 -0.761621   \n",
       "1     -0.120242  -0.752833     -0.819964     -0.241061 -1.026041 -0.761621   \n",
       "2     -0.120242   0.191388     -0.819964     -0.241061  0.789741 -0.761621   \n",
       "3     -0.120242  -0.842306      1.107810     -0.241061 -1.026041  1.227585   \n",
       "4     -0.120242  -0.240745      1.107810     -0.241061 -1.026041 -0.761621   \n",
       "\n",
       "   BedroomAbvGr  KitchenAbvGr  TotRmsAbvGrd  Fireplaces  GarageYrBlt  \\\n",
       "0      0.163779     -0.211454     -0.318683   -0.951226            0   \n",
       "1      0.163779     -0.211454     -0.318683   -0.951226            1   \n",
       "2      0.163779     -0.211454      0.296763   -0.951226            1   \n",
       "3      0.163779     -0.211454     -0.318683   -0.951226            0   \n",
       "4     -1.062465     -0.211454     -0.318683    0.600495            0   \n",
       "\n",
       "   GarageCars  GarageArea  WoodDeckSF  OpenPorchSF  EnclosedPorch  3SsnPorch  \\\n",
       "0    0.311725    0.032844    0.205557    -0.704483      -0.359325  -0.116339   \n",
       "1   -2.365440   -2.212963   -0.752176    -0.251539      -0.359325  -0.116339   \n",
       "2    1.650307    1.689127    0.907895     0.186307      -0.359325  -0.116339   \n",
       "3    0.311725    0.196601   -0.752176    -0.704483      -0.359325  -0.116339   \n",
       "4    0.311725   -0.257239    1.163290    -0.130754      -0.359325  -0.116339   \n",
       "\n",
       "   ScreenPorch  PoolArea    MoSold    YrSold  MSZoning_1  MSZoning_2  \\\n",
       "0    -0.270208 -0.068692 -0.489110  1.645210           0           0   \n",
       "1    -0.270208 -0.068692  2.100892 -0.614439           0           0   \n",
       "2    -0.270208 -0.068692 -0.859110 -1.367655           0           0   \n",
       "3    -0.270208 -0.068692 -0.119110 -0.614439           0           0   \n",
       "4    -0.270208 -0.068692 -0.859110 -1.367655           0           0   \n",
       "\n",
       "   MSZoning_3  Street_1  Street_2  LotShape  LandContour_0  LandContour_1  \\\n",
       "0           1         1         0         1              0              0   \n",
       "1           1         1         0         1              0              0   \n",
       "2           1         1         0         1              0              0   \n",
       "3           1         1         0         1              0              0   \n",
       "4           1         1         0         1              0              0   \n",
       "\n",
       "   LandContour_2  Utilities  LotConfig_1  LotConfig_2  LotConfig_3  LandSlope  \\\n",
       "0              1          1            0            0            1          1   \n",
       "1              1          1            0            0            1          1   \n",
       "2              1          1            0            0            1          1   \n",
       "3              1          1            0            0            1          1   \n",
       "4              1          1            0            0            1          2   \n",
       "\n",
       "   Neighborhood_1  Neighborhood_2  Neighborhood_3  Neighborhood_4  \\\n",
       "0               0               0               0               0   \n",
       "1               0               0               0               1   \n",
       "2               0               0               0               1   \n",
       "3               0               0               0               0   \n",
       "4               0               0               0               1   \n",
       "\n",
       "   Neighborhood_5  Condition1_1  Condition1_2  Condition1_3  Condition1_4  \\\n",
       "0               1             0             0             0             1   \n",
       "1               0             0             0             0             1   \n",
       "2               1             0             0             1             0   \n",
       "3               1             0             0             1             0   \n",
       "4               0             0             0             1             0   \n",
       "\n",
       "   Condition2_1  Condition2_2  Condition2_3  BldgType_1  BldgType_2  \\\n",
       "0             0             0             1           0           0   \n",
       "1             0             0             1           0           0   \n",
       "2             0             0             1           0           0   \n",
       "3             0             0             1           0           0   \n",
       "4             0             0             1           0           0   \n",
       "\n",
       "   BldgType_3  HouseStyle_0  HouseStyle_1  HouseStyle_2  HouseStyle_3  \\\n",
       "0           1             0             0             0             1   \n",
       "1           1             0             0             1             0   \n",
       "2           1             0             0             1             0   \n",
       "3           1             0             0             1             0   \n",
       "4           1             0             0             1             0   \n",
       "\n",
       "   RoofStyle_1  RoofStyle_2  RoofStyle_3  RoofMatl_1  RoofMatl_2  RoofMatl_3  \\\n",
       "0            0            0            1           0           0           1   \n",
       "1            0            0            1           0           0           1   \n",
       "2            0            0            1           0           0           1   \n",
       "3            0            1            0           0           0           1   \n",
       "4            0            0            1           0           0           1   \n",
       "\n",
       "   Exterior1st_1  Exterior1st_2  Exterior1st_3  Exterior1st_4  Exterior2nd_0  \\\n",
       "0              0              0              0              1              0   \n",
       "1              0              0              1              0              0   \n",
       "2              0              0              1              0              0   \n",
       "3              0              0              0              1              0   \n",
       "4              0              0              1              1              0   \n",
       "\n",
       "   Exterior2nd_1  Exterior2nd_2  Exterior2nd_3  Exterior2nd_4  MasVnrType_1  \\\n",
       "0              0              0              0              1             0   \n",
       "1              0              0              1              0             0   \n",
       "2              0              0              1              0             0   \n",
       "3              0              0              0              1             0   \n",
       "4              0              0              1              1             0   \n",
       "\n",
       "   MasVnrType_2  MasVnrType_3  ExterQual  ExterCond  Foundation_1  \\\n",
       "0             0             1          1          1             0   \n",
       "1             1             0          1          2             0   \n",
       "2             0             1          2          2             0   \n",
       "3             0             1          1          2             0   \n",
       "4             1             0          1          2             0   \n",
       "\n",
       "   Foundation_2  Foundation_3  BsmtQual  BsmtCond  BsmtExposure  BsmtFinType1  \\\n",
       "0             0             1         1         1             1             1   \n",
       "1             0             1         2         1             2             2   \n",
       "2             0             1         2         1             3             3   \n",
       "3             1             0         1         1             2             2   \n",
       "4             1             0         2         1             3             2   \n",
       "\n",
       "   BsmtFinType2  Heating  HeatingQC  CentralAir_1  CentralAir_2  Electrical  \\\n",
       "0             1        1          1             1             0           1   \n",
       "1             1        1          1             1             0           1   \n",
       "2             1        1          1             1             0           1   \n",
       "3             1        1          2             1             0           1   \n",
       "4             2        1          3             1             0           1   \n",
       "\n",
       "   KitchenQual  Functional  FireplaceQu  GarageType_1  GarageType_2  \\\n",
       "0            1           1            1             0             0   \n",
       "1            2           1            1             0             1   \n",
       "2            1           1            1             0             0   \n",
       "3            2           1            1             0             0   \n",
       "4            2           1            2             0             0   \n",
       "\n",
       "   GarageType_3  GarageFinish  GarageQual  GarageCond  PavedDrive  PoolQC  \\\n",
       "0             1             1           1           1           1       1   \n",
       "1             0             2           2           2           1       1   \n",
       "2             1             1           1           1           1       1   \n",
       "3             1             1           1           1           1       1   \n",
       "4             1             1           1           1           1       1   \n",
       "\n",
       "   SaleType_1  SaleType_2  SaleType_3  SaleType_4  SaleCondition_1  \\\n",
       "0           0           0           0           1                0   \n",
       "1           0           0           1           0                0   \n",
       "2           0           0           0           1                0   \n",
       "3           0           0           0           1                0   \n",
       "4           0           0           0           1                0   \n",
       "\n",
       "   SaleCondition_2  SaleCondition_3  \n",
       "0                0                1  \n",
       "1                1                0  \n",
       "2                1                1  \n",
       "3                1                1  \n",
       "4                1                1  "
      ]
     },
     "execution_count": 82,
     "metadata": {},
     "output_type": "execute_result"
    }
   ],
   "source": [
    "X_train_all_encoded2.to_csv('./data/X_train_all_encoded2.csv', index=False)\n",
    "X_train_all_encoded2.head()"
   ]
  },
  {
   "cell_type": "code",
   "execution_count": 85,
   "metadata": {},
   "outputs": [
    {
     "data": {
      "text/plain": [
       "(482, 122)"
      ]
     },
     "execution_count": 85,
     "metadata": {},
     "output_type": "execute_result"
    }
   ],
   "source": [
    "X_test_all_encoded2 = X_test_all_encoded.drop(['MSSubClass_0', 'MSZoning_0', 'LotConfig_0', 'Neighborhood_0',\n",
    "               'Condition1_0', 'Condition2_0', 'BldgType_0', 'RoofStyle_0', 'RoofMatl_0', 'Exterior1st_0',\n",
    "            'MasVnrType_0', 'Foundation_0', 'GarageType_0', 'SaleType_0', 'SaleCondition_0'], axis=1)\n",
    "X_test_all_encoded2.shape #(482, 122)"
   ]
  },
  {
   "cell_type": "code",
   "execution_count": 86,
   "metadata": {},
   "outputs": [],
   "source": [
    "X_test_all_encoded2.to_csv('./data/X_test_all_encoded2.csv', index=False)\n",
    "print(X_test_all_encoded2.shape) #(482, 122)"
   ]
  },
  {
   "cell_type": "markdown",
   "metadata": {},
   "source": [
    "### ** MODELS: Original features (with binary/OHE/ordinal encoding)\n",
    "### ** GridSearchCV: Ridge, Lasso, ElasticNet, RandomForest, GradientBoost, SVR"
   ]
  },
  {
   "cell_type": "markdown",
   "metadata": {},
   "source": [
    "### Ridge"
   ]
  },
  {
   "cell_type": "code",
   "execution_count": 102,
   "metadata": {},
   "outputs": [
    {
     "name": "stdout",
     "output_type": "stream",
     "text": [
      "The train score is 0.8529\n",
      "The test score is 0.8177\n",
      "The R-squared is 0.8177\n",
      "The root mean squared is 0.4607\n",
      "The mean squared error is 0.2122\n",
      "The mean absolute error is is 0.2595\n",
      "{'alpha': 0.5, 'max_iter': 10, 'solver': 'saga'}\n",
      "GridSearchCV best_score is 69.9202%\n"
     ]
    }
   ],
   "source": [
    "ridge = Ridge()\n",
    "params1 = {'alpha': np.arange(0, 10),\n",
    "          'max_iter': [10, 50, 100, 200, 300, 400, 500, 600, 700],\n",
    "          'solver': ['cholesky', 'lsqr', 'sparse_cg', 'sag', 'saga']}\n",
    "\n",
    "grid1 = GridSearchCV(ridge, params1, n_jobs=-1)\n",
    "\n",
    "grid1.fit(X_train_all_encoded2, y_train)\n",
    "pred=grid1.predict(X_test_all_encoded2)\n",
    "\n",
    "train_score = grid1.score(X_train_all_encoded2, y_train)\n",
    "test_score = grid1.score(X_test_all_encoded2, y_test) # same thing as R2, just testing\n",
    "Rs = r2_score(y_test, pred) # r2_score(ytrue, ypred)\n",
    "rmse=np.sqrt(mean_squared_error(y_test,pred))\n",
    "mse=mean_squared_error(y_test,pred)\n",
    "mae=mean_absolute_error(y_test, pred)\n",
    "\n",
    "print('The train score is {:.4}'.format(train_score))\n",
    "print('The test score is {:.4}'.format(test_score)) # same thing as R2, just testing\n",
    "print('The R-squared is {:.4}'.format(Rs))\n",
    "print('The root mean squared is {:.4}'.format(rmse))\n",
    "print('The mean squared error is {:.4}'.format(mse))\n",
    "print('The mean absolute error is is {:.4}'.format(mae))\n",
    "\n",
    "grid1_best_params = grid1.best_params_\n",
    "print(grid1_best_params)\n",
    "print('GridSearchCV best_score is {:.4%}'.format(grid1.best_score_))"
   ]
  },
  {
   "cell_type": "markdown",
   "metadata": {},
   "source": [
    "### Lasso"
   ]
  },
  {
   "cell_type": "code",
   "execution_count": 103,
   "metadata": {},
   "outputs": [
    {
     "name": "stdout",
     "output_type": "stream",
     "text": [
      "The train score is 0.8838\n",
      "The test score is 0.8169\n",
      "The R-squared is 0.8169\n",
      "The root mean squared is 0.4617\n",
      "The mean squared error is 0.2132\n",
      "The mean absolute error is is 0.273\n",
      "{'alpha': 0, 'max_iter': 696, 'selection': 'cyclic'}\n",
      "GridSearchCV best_score is 32.1581%\n"
     ]
    }
   ],
   "source": [
    "lasso = Lasso(random_state=42)\n",
    "params2 = {'alpha': np.arange(0, 10),\n",
    "          'max_iter': np.arange(1, 700, 5),\n",
    "          'selection':['cyclic', 'random']}\n",
    "\n",
    "grid2 = GridSearchCV(lasso, params2, n_jobs=-1)\n",
    "\n",
    "grid2.fit(X_train_all_encoded2, y_train)\n",
    "pred=grid2.predict(X_test_all_encoded2)\n",
    "\n",
    "train_score = grid2.score(X_train_all_encoded2, y_train)\n",
    "test_score = grid2.score(X_test_all_encoded2, y_test) # same thing as R2, just testing\n",
    "Rs = r2_score(y_test, pred) # r2_score(ytrue, ypred)\n",
    "rmse=np.sqrt(mean_squared_error(y_test,pred))\n",
    "mse=mean_squared_error(y_test,pred)\n",
    "mae=mean_absolute_error(y_test, pred)\n",
    "\n",
    "print('The train score is {:.4}'.format(train_score))\n",
    "print('The test score is {:.4}'.format(test_score)) # same thing as R2, just testing\n",
    "print('The R-squared is {:.4}'.format(Rs))\n",
    "print('The root mean squared is {:.4}'.format(rmse))\n",
    "print('The mean squared error is {:.4}'.format(mse))\n",
    "print('The mean absolute error is is {:.4}'.format(mae))\n",
    "\n",
    "grid2_best_params = grid2.best_params_\n",
    "print(grid2_best_params)\n",
    "print('GridSearchCV best_score is {:.4%}'.format(grid2.best_score_))"
   ]
  },
  {
   "cell_type": "markdown",
   "metadata": {},
   "source": [
    "### ElasticNet"
   ]
  },
  {
   "cell_type": "code",
   "execution_count": 104,
   "metadata": {},
   "outputs": [
    {
     "name": "stdout",
     "output_type": "stream",
     "text": [
      "The train score is 0.7468\n",
      "The test score is 0.7732\n",
      "The R-squared is 0.7732\n",
      "The root mean squared is 0.5138\n",
      "The mean squared error is 0.264\n",
      "The mean absolute error is is 0.2923\n",
      "{'alpha': 1, 'l1_ratio': 0.1, 'max_iter': 1}\n",
      "GridSearchCV best_score is 71.4078%\n"
     ]
    }
   ],
   "source": [
    "elastic = ElasticNet(random_state=42)\n",
    "params4 = {\"alpha\": np.arange(0, 10),\n",
    "          \"max_iter\": np.arange(1, 700, 5),\n",
    "          'l1_ratio': [0.1, 0.4, 0.7, 0.9]}\n",
    "\n",
    "grid4 = GridSearchCV(elastic, params4, n_jobs=-1)\n",
    "\n",
    "grid4.fit(X_train_all_encoded2, y_train)\n",
    "pred=grid4.predict(X_test_all_encoded2)\n",
    "\n",
    "train_score = grid4.score(X_train_all_encoded2, y_train)\n",
    "test_score = grid4.score(X_test_all_encoded2, y_test) # same thing as R2, just testing\n",
    "Rs = r2_score(y_test, pred) # r2_score(ytrue, ypred)\n",
    "rmse=np.sqrt(mean_squared_error(y_test,pred))\n",
    "mse=mean_squared_error(y_test,pred)\n",
    "mae=mean_absolute_error(y_test, pred)\n",
    "\n",
    "print('The train score is {:.4}'.format(train_score))\n",
    "print('The test score is {:.4}'.format(test_score)) # same thing as R2, just testing\n",
    "print('The R-squared is {:.4}'.format(Rs))\n",
    "print('The root mean squared is {:.4}'.format(rmse))\n",
    "print('The mean squared error is {:.4}'.format(mse))\n",
    "print('The mean absolute error is is {:.4}'.format(mae))\n",
    "\n",
    "grid4_best_params = grid4.best_params_\n",
    "print(grid4_best_params)\n",
    "print('GridSearchCV best_score is {:.4%}'.format(grid4.best_score_))"
   ]
  },
  {
   "cell_type": "markdown",
   "metadata": {},
   "source": [
    "### Random Forest Regressor"
   ]
  },
  {
   "cell_type": "code",
   "execution_count": null,
   "metadata": {},
   "outputs": [],
   "source": [
    "randomforest = RandomForestRegressor(verbose=0)\n",
    "params5 = {\"criterion\": ['mae','mse'],\n",
    "          \"min_samples_leaf\": range(1, 10),\n",
    "          \"min_samples_split\": np.linspace(start=2, stop=30,\n",
    "                    num=15, dtype=int),\n",
    "          \"max_depth\": range(1,10),\n",
    "          \"n_estimators\": np.linspace(1, 1000, num=15, dtype=int),\n",
    "          \"max_features\": range(5, 80, 5)}\n",
    "#           'oob_score'= True}\n",
    " \n",
    "grid5 = RandomizedSearchCV(randomforest, params5)\n",
    "\n",
    "grid5.fit(X_train_all_encoded2, y_train)\n",
    "pred=grid5.predict(X_test_all_encoded2)\n",
    "\n",
    "train_score = grid5.score(X_train_all_encoded2, y_train)\n",
    "test_score = grid5.score(X_test_all_encoded2, y_test) # same thing as R2, just testing\n",
    "Rs = r2_score(y_test, pred) # r2_score(ytrue, ypred)\n",
    "rmse=np.sqrt(mean_squared_error(y_test,pred))\n",
    "mse=mean_squared_error(y_test,pred)\n",
    "mae=mean_absolute_error(y_test, pred)\n",
    "\n",
    "print('The train score is {:.4}'.format(train_score))\n",
    "print('The test score is {:.4}'.format(test_score)) # same thing as R2, just testing\n",
    "print('The R-squared is {:.4}'.format(Rs))\n",
    "print('The root mean squared is {:.4}'.format(rmse))\n",
    "print('The mean squared error is {:.4}'.format(mse))\n",
    "print('The mean absolute error is is {:.4}'.format(mae))\n",
    "\n",
    "grid5_best_params = grid5.best_params_\n",
    "print(grid5_best_params)\n",
    "print('RandomizedSearchCV best_score is {:.4%}'.format(grid5.best_score_))"
   ]
  },
  {
   "cell_type": "markdown",
   "metadata": {},
   "source": [
    "### Feature Importances: RandomForest (original)"
   ]
  },
  {
   "cell_type": "code",
   "execution_count": 150,
   "metadata": {},
   "outputs": [
    {
     "data": {
      "text/plain": [
       "RandomForestRegressor(bootstrap=True, criterion='mse', max_depth=9,\n",
       "           max_features=35, max_leaf_nodes=None, min_impurity_decrease=0.0,\n",
       "           min_impurity_split=None, min_samples_leaf=1,\n",
       "           min_samples_split=18, min_weight_fraction_leaf=0.0,\n",
       "           n_estimators=857, n_jobs=None, oob_score=False,\n",
       "           random_state=None, verbose=0, warm_start=False)"
      ]
     },
     "execution_count": 150,
     "metadata": {},
     "output_type": "execute_result"
    }
   ],
   "source": [
    "randomforest = RandomForestRegressor(n_estimators=857, max_depth=9, max_features=35, min_samples_leaf=1, min_samples_split=18)\n",
    "randomforest.fit(X_train_all_encoded2, y_train)"
   ]
  },
  {
   "cell_type": "code",
   "execution_count": 153,
   "metadata": {},
   "outputs": [
    {
     "data": {
      "text/plain": [
       "[('OverallQual', 0.25440508222068875),\n",
       " ('GrLivArea', 0.14410731810696786),\n",
       " ('GarageCars', 0.08642456375082082),\n",
       " ('ExterQual', 0.06077682202047429),\n",
       " ('YearBuilt', 0.058589323217171946),\n",
       " ('TotalBsmtSF', 0.05618227793882132),\n",
       " ('GarageArea', 0.04679166147970109),\n",
       " ('1stFlrSF', 0.039557447044666356),\n",
       " ('BsmtFinSF1', 0.02747302768559306),\n",
       " ('FullBath', 0.01878585939950299),\n",
       " ('2ndFlrSF', 0.0187267296387199),\n",
       " ('LotArea', 0.018419259870866823),\n",
       " ('YearRemodAdd', 0.016469022661331427),\n",
       " ('BsmtQual', 0.013707253027174238),\n",
       " ('TotRmsAbvGrd', 0.011013626497384386)]"
      ]
     },
     "execution_count": 153,
     "metadata": {},
     "output_type": "execute_result"
    }
   ],
   "source": [
    "sorted_importance_encoded2 = sorted(zip(X_train_all_encoded2.columns, randomforest.feature_importances_), key=lambda t:t[1], reverse=True)\n",
    "sorted_importance_encoded2 = sorted_importance_encoded2[:15]\n",
    "sorted_importance_encoded2"
   ]
  },
  {
   "cell_type": "code",
   "execution_count": 154,
   "metadata": {},
   "outputs": [
    {
     "data": {
      "text/plain": [
       "Text(0.5, 1.0, 'RandomForest Feature Importance (Original, no flags or scores)')"
      ]
     },
     "execution_count": 154,
     "metadata": {},
     "output_type": "execute_result"
    },
    {
     "data": {
      "image/png": "[encoded data removed]",
      "text/plain": [
       "<Figure size 432x288 with 1 Axes>"
      ]
     },
     "metadata": {
      "needs_background": "light"
     },
     "output_type": "display_data"
    }
   ],
   "source": [
    "x, y = zip(*sorted_importance_encoded2)\n",
    "barplot_encoded_encoded2 = pd.DataFrame({'Feature': x, 'Importance Score':y}).plot.bar(x='Feature', y='Importance Score')\n",
    "plt.title('RandomForest Feature Importance (Original, no flags or scores)')"
   ]
  },
  {
   "cell_type": "markdown",
   "metadata": {},
   "source": [
    "### Gradient Boosting Regressor"
   ]
  },
  {
   "cell_type": "code",
   "execution_count": 155,
   "metadata": {},
   "outputs": [
    {
     "name": "stdout",
     "output_type": "stream",
     "text": [
      "The train score is 0.917\n",
      "The test score is 0.8967\n",
      "The R-squared is 0.8967\n",
      "The root mean squared is 0.3467\n",
      "The mean squared error is 0.1202\n",
      "The mean absolute error is 0.1983\n",
      "{'subsample': 0.8, 'n_estimators': 857, 'min_samples_split': 18, 'min_samples_leaf': 8, 'max_features': 5, 'max_depth': 2, 'criterion': 'mae', 'alpha': 0.3}\n",
      "RandomizedSearch best_score is 85.3520%\n"
     ]
    }
   ],
   "source": [
    "gbm6 = GradientBoostingRegressor()\n",
    "params6 = {\"criterion\": ['mae','mse'],\n",
    "                       \"min_samples_leaf\": range(1, 10),\n",
    "                       \"min_samples_split\": np.linspace(start=2, stop=30,\n",
    "                                        num=15, dtype=int),\n",
    "                       \"max_depth\": range(1,10),\n",
    "                       \"alpha\": [0.01, 0.05, 0.1, 0.2, 0.3, 0.5, 0.7, 0.9],\n",
    "                       \"n_estimators\": np.linspace(1, 1000, num=15, dtype=int),\n",
    "                        \"subsample\": [0.8, 0.9, 1.0],\n",
    "                       \"max_features\": range(5, 80, 5)}\n",
    "\n",
    "grid6 = RandomizedSearchCV(gbm6, params6)\n",
    "\n",
    "grid6.fit(X_train_all_encoded2,y_train)\n",
    "pred=grid6.predict(X_test_all_encoded2)\n",
    "\n",
    "train_score = grid6.score(X_train_all_encoded2, y_train)\n",
    "test_score = grid6.score(X_test_all_encoded2, y_test) # same thing as R2, just testing\n",
    "Rs = r2_score(y_test, pred) # r2_score(ytrue, ypred)\n",
    "rmse=np.sqrt(mean_squared_error(y_test,pred))\n",
    "mse=mean_squared_error(y_test,pred)\n",
    "mae=mean_absolute_error(y_test, pred)\n",
    "\n",
    "print('The train score is {:.4}'.format(train_score))\n",
    "print('The test score is {:.4}'.format(test_score)) # same thing as R2, just testing\n",
    "print('The R-squared is {:.4}'.format(Rs))\n",
    "print('The root mean squared is {:.4}'.format(rmse))\n",
    "print('The mean squared error is {:.4}'.format(mse))\n",
    "print('The mean absolute error is {:.4}'.format(mae))\n",
    "\n",
    "grid6_best_params = grid6.best_params_\n",
    "print(grid6_best_params)\n",
    "print('RandomizedSearchCV best_score is {:.4%}'.format(grid6.best_score_))"
   ]
  },
  {
   "cell_type": "markdown",
   "metadata": {},
   "source": [
    "### Feature Importances: GradientBoost (original)"
   ]
  },
  {
   "cell_type": "code",
   "execution_count": 165,
   "metadata": {},
   "outputs": [],
   "source": [
    "gbm6 = GradientBoostingRegressor()"
   ]
  },
  {
   "cell_type": "code",
   "execution_count": 166,
   "metadata": {},
   "outputs": [
    {
     "data": {
      "text/plain": [
       "GradientBoostingRegressor(alpha=0.9, criterion='friedman_mse', init=None,\n",
       "             learning_rate=0.1, loss='ls', max_depth=3, max_features=None,\n",
       "             max_leaf_nodes=None, min_impurity_decrease=0.0,\n",
       "             min_impurity_split=None, min_samples_leaf=1,\n",
       "             min_samples_split=2, min_weight_fraction_leaf=0.0,\n",
       "             n_estimators=100, n_iter_no_change=None, presort='auto',\n",
       "             random_state=None, subsample=1.0, tol=0.0001,\n",
       "             validation_fraction=0.1, verbose=0, warm_start=False)"
      ]
     },
     "execution_count": 166,
     "metadata": {},
     "output_type": "execute_result"
    }
   ],
   "source": [
    "gbm6.fit(X_train_all_encoded2, y_train)"
   ]
  },
  {
   "cell_type": "code",
   "execution_count": 169,
   "metadata": {},
   "outputs": [
    {
     "data": {
      "text/plain": [
       "[('OverallQual', 0.5075144836443946),\n",
       " ('GrLivArea', 0.14381647354276852),\n",
       " ('GarageCars', 0.05147541670663904),\n",
       " ('TotalBsmtSF', 0.04909407569098134),\n",
       " ('BsmtFinSF1', 0.032918965092399104),\n",
       " ('1stFlrSF', 0.032189177045525236),\n",
       " ('YearBuilt', 0.02648858122168825),\n",
       " ('2ndFlrSF', 0.017386463028249213),\n",
       " ('LotArea', 0.01712304672522222),\n",
       " ('YearRemodAdd', 0.01640480755778557),\n",
       " ('GarageType_2', 0.010957185092333519),\n",
       " ('ScreenPorch', 0.008801373173803528),\n",
       " ('BsmtQual', 0.0077430224774867416),\n",
       " ('Fireplaces', 0.0056838305911224),\n",
       " ('LotFrontage', 0.005324133137201849)]"
      ]
     },
     "execution_count": 169,
     "metadata": {},
     "output_type": "execute_result"
    }
   ],
   "source": [
    "sorted_importance_gbm_encoded2 = sorted(zip(X_train_all_encoded2.columns, gbm6.feature_importances_), key=lambda t:t[1], reverse=True)\n",
    "sorted_importance_gbm_encoded2 = sorted_importance_gbm_encoded2[:15]\n",
    "sorted_importance_gbm_encoded2"
   ]
  },
  {
   "cell_type": "code",
   "execution_count": 170,
   "metadata": {},
   "outputs": [
    {
     "data": {
      "text/plain": [
       "Text(0.5, 1.0, 'GradientBoost Feature Importance (Original, no flags or scores)')"
      ]
     },
     "execution_count": 170,
     "metadata": {},
     "output_type": "execute_result"
    },
    {
     "data": {
      "image/png": "[encoded data removed]",
      "text/plain": [
       "<Figure size 432x288 with 1 Axes>"
      ]
     },
     "metadata": {
      "needs_background": "light"
     },
     "output_type": "display_data"
    }
   ],
   "source": [
    "x, y = zip(*sorted_importance_gbm_encoded2)\n",
    "barplot_encoded_gbm_encoded2 = pd.DataFrame({'Feature': x, 'Importance Score':y}).plot.bar(x='Feature', y='Importance Score')\n",
    "plt.title('GradientBoost Feature Importance (Original, no flags or scores)')"
   ]
  },
  {
   "cell_type": "markdown",
   "metadata": {},
   "source": [
    "### Support Vector Regression"
   ]
  },
  {
   "cell_type": "code",
   "execution_count": null,
   "metadata": {},
   "outputs": [],
   "source": [
    "from sklearn.svm import SVR"
   ]
  },
  {
   "cell_type": "code",
   "execution_count": null,
   "metadata": {},
   "outputs": [],
   "source": [
    "svrsearch = SVR()\n",
    "params7a = {'C': [0.001, 1, 10, 100, 1000],\n",
    "           'epsilon': [1e-4, 1e-3, 1e-2, 1e-1, 0, 10, 100, 1000, 10000, 100000],\n",
    "           'kernel': ['poly'],\n",
    "          'degree': [1, 2, 3, 4, 5]\n",
    "           }\n",
    "params7b = {'C': [0.001, 1, 10, 100, 1000],\n",
    "          'epsilon': [1e-4, 1e-3, 1e-2, 1e-1, 0, 10, 100, 1000, 10000, 100000],\n",
    "          'gamma': [100000, 10000, 1000, 100, 10, 1, 0.001, 0.0001],\n",
    "           'kernel': ['rbf']}"
   ]
  },
  {
   "cell_type": "code",
   "execution_count": null,
   "metadata": {},
   "outputs": [],
   "source": [
    "# First set of GridSearchCV parameters\n",
    "\n",
    "gridsearch_svm7a = model_selection.GridSearchCV(svrsearch, params7a, cv=3, iid=True, n_jobs=-1)\n",
    "gridsearch_svm7a.fit(X_train_tree_high, y_train)\n",
    "\n",
    "train_score = gridsearch_svm7a.score(X_train_tree_high, y_train)\n",
    "test_score = gridsearch_svm7a.score(X_test_tree_high, y_test) # same thing as R2, just testing\n",
    "Rs = r2_score(y_test, pred) # r2_score(ytrue, ypred)\n",
    "rmse = np.sqrt(mean_squared_error(y_test,pred))\n",
    "mse = mean_squared_error(y_test,pred)\n",
    "mae = mean_absolute_error(y_test, pred)\n",
    "\n",
    "print('The train score is {:.4}'.format(train_score))\n",
    "print('The test score is {:.4}'.format(test_score)) # same thing as R2, just testing\n",
    "print('The R-squared is {:.4}'.format(Rs))\n",
    "print('The root mean squared is {:.4}'.format(rmse))\n",
    "print('The mean squared error is {:.4}'.format(mse))\n",
    "print('The mean absolute error is {:.4}'.format(mae))\n",
    "\n",
    "gridsearch_best_params7a = gridsearch_svm7a.best_params_\n",
    "print(gridsearch_best_params7a)\n",
    "print('GridSearchCV best_score is {:.4%}'.format(gridsearch_svm7a.best_score_))"
   ]
  },
  {
   "cell_type": "code",
   "execution_count": null,
   "metadata": {},
   "outputs": [],
   "source": [
    "# Second set of GridsearchCV parameters\n",
    "\n",
    "gridsearch_svm7b = model_selection.GridSearchCV(svrsearch, params7b, cv=3, iid=True, n_jobs=-1)\n",
    "gridsearch_svm7b.fit(X_train_tree_high, y_train)\n",
    "\n",
    "train_score = gridsearch_svm7b.score(X_train_tree_high, y_train)\n",
    "test_score = gridsearch_svm7b.score(X_test_tree_high, y_test)\n",
    "Rs = r2_score(y_test, pred) # r2_score(ytrue, ypred)\n",
    "rmse = np.sqrt(mean_squared_error(y_test,pred))\n",
    "mse = mean_squared_error(y_test,pred)\n",
    "mae = mean_absolute_error(y_test, pred)\n",
    "\n",
    "print('The train score is {:.4}'.format(train_score))\n",
    "print('The test score is {:.4}'.format(test_score)) # same thing as R2, just testing\n",
    "print('The R-squared is {:.4}'.format(Rs))\n",
    "print('The root mean squared is {:.4}'.format(rmse))\n",
    "print('The mean squared error is {:.4}'.format(mse))\n",
    "print('The mean absolute error is {:.4}'.format(mae))\n",
    "\n",
    "gridsearch_best_params7b = gridsearch_svm7b.best_params_\n",
    "print(gridsearch_best_params7b)\n",
    "print('GridSearchCV best_score is {:.4%}'.format(gridsearch_svm7b.best_score_))"
   ]
  }
 ],
 "metadata": {
  "kernelspec": {
   "display_name": "Python 3",
   "language": "python",
   "name": "python3"
  },
  "language_info": {
   "codemirror_mode": {
    "name": "ipython",
    "version": 3
   },
   "file_extension": ".py",
   "mimetype": "text/x-python",
   "name": "python",
   "nbconvert_exporter": "python",
   "pygments_lexer": "ipython3",
   "version": "3.7.3"
  }
 },
 "nbformat": 4,
 "nbformat_minor": 2
}
